{
  "nbformat": 4,
  "nbformat_minor": 0,
  "metadata": {
    "colab": {
      "provenance": []
    },
    "kernelspec": {
      "name": "python3",
      "display_name": "Python 3"
    },
    "language_info": {
      "name": "python"
    }
  },
  "cells": [
    {
      "cell_type": "code",
      "execution_count": 198,
      "metadata": {
        "colab": {
          "base_uri": "https://localhost:8080/"
        },
        "id": "dRao1DTP4RLQ",
        "outputId": "b44a6b61-e55f-4b3d-eaeb-ca7722a36afd"
      },
      "outputs": [
        {
          "output_type": "stream",
          "name": "stdout",
          "text": [
            "Requirement already satisfied: pip in /usr/local/lib/python3.10/dist-packages (23.2.1)\n",
            "\u001b[33mWARNING: Running pip as the 'root' user can result in broken permissions and conflicting behaviour with the system package manager. It is recommended to use a virtual environment instead: https://pip.pypa.io/warnings/venv\u001b[0m\u001b[33m\n",
            "\u001b[0mRequirement already satisfied: pandas==1.5.3 in /usr/local/lib/python3.10/dist-packages (1.5.3)\n",
            "Requirement already satisfied: seaborn==0.12.2 in /usr/local/lib/python3.10/dist-packages (0.12.2)\n",
            "Requirement already satisfied: matplotlib==3.7.1 in /usr/local/lib/python3.10/dist-packages (3.7.1)\n",
            "Requirement already satisfied: python-dateutil>=2.8.1 in /usr/local/lib/python3.10/dist-packages (from pandas==1.5.3) (2.8.2)\n",
            "Requirement already satisfied: pytz>=2020.1 in /usr/local/lib/python3.10/dist-packages (from pandas==1.5.3) (2023.3.post1)\n",
            "Requirement already satisfied: numpy>=1.21.0 in /usr/local/lib/python3.10/dist-packages (from pandas==1.5.3) (1.23.5)\n",
            "Requirement already satisfied: contourpy>=1.0.1 in /usr/local/lib/python3.10/dist-packages (from matplotlib==3.7.1) (1.1.1)\n",
            "Requirement already satisfied: cycler>=0.10 in /usr/local/lib/python3.10/dist-packages (from matplotlib==3.7.1) (0.12.1)\n",
            "Requirement already satisfied: fonttools>=4.22.0 in /usr/local/lib/python3.10/dist-packages (from matplotlib==3.7.1) (4.43.1)\n",
            "Requirement already satisfied: kiwisolver>=1.0.1 in /usr/local/lib/python3.10/dist-packages (from matplotlib==3.7.1) (1.4.5)\n",
            "Requirement already satisfied: packaging>=20.0 in /usr/local/lib/python3.10/dist-packages (from matplotlib==3.7.1) (23.2)\n",
            "Requirement already satisfied: pillow>=6.2.0 in /usr/local/lib/python3.10/dist-packages (from matplotlib==3.7.1) (9.4.0)\n",
            "Requirement already satisfied: pyparsing>=2.3.1 in /usr/local/lib/python3.10/dist-packages (from matplotlib==3.7.1) (3.1.1)\n",
            "Requirement already satisfied: six>=1.5 in /usr/local/lib/python3.10/dist-packages (from python-dateutil>=2.8.1->pandas==1.5.3) (1.16.0)\n",
            "\u001b[33mWARNING: Running pip as the 'root' user can result in broken permissions and conflicting behaviour with the system package manager. It is recommended to use a virtual environment instead: https://pip.pypa.io/warnings/venv\u001b[0m\u001b[33m\n",
            "\u001b[0m"
          ]
        }
      ],
      "source": [
        "!pip install --upgrade pip\n",
        "!pip install pandas==1.5.3 seaborn==0.12.2 matplotlib==3.7.1"
      ]
    },
    {
      "cell_type": "code",
      "source": [
        "# Importamos las librerias necesarias.\n",
        "import matplotlib.pyplot as plt\n",
        "import pandas as pd\n",
        "import seaborn as sns\n",
        "from sklearn.preprocessing import LabelEncoder\n",
        "import re"
      ],
      "metadata": {
        "id": "WzDPF1sM6Y8F"
      },
      "execution_count": 199,
      "outputs": []
    },
    {
      "cell_type": "code",
      "source": [
        "# Cargamos la data en la variable df.\n",
        "df = pd.read_csv('/content/incidentes_viales.csv', delimiter=';')"
      ],
      "metadata": {
        "colab": {
          "base_uri": "https://localhost:8080/"
        },
        "id": "Y12do-3O6aXg",
        "outputId": "beb35657-6e36-4042-ba4a-bab356167c6f"
      },
      "execution_count": 200,
      "outputs": [
        {
          "output_type": "stream",
          "name": "stderr",
          "text": [
            "<ipython-input-200-553e48cecddb>:2: DtypeWarning: Columns (0) have mixed types. Specify dtype option on import or set low_memory=False.\n",
            "  df = pd.read_csv('/content/incidentes_viales.csv', delimiter=';')\n"
          ]
        }
      ]
    },
    {
      "cell_type": "code",
      "source": [
        "print(\"La cantidad de filas que tenemos es:\", df.shape[0],\n",
        "      \"\\nY la cantidad de columnas es:\", df.shape[1],\n",
        "      \"\\n\\nLas primeras columnas de nuestro data set nos arrojan la siguiente información:\")\n",
        "\n",
        "df.head()"
      ],
      "metadata": {
        "colab": {
          "base_uri": "https://localhost:8080/",
          "height": 452
        },
        "id": "PPCnWb8r6ncK",
        "outputId": "fdbf4648-846d-4bda-f05e-0ae7a3ea34fd"
      },
      "execution_count": 201,
      "outputs": [
        {
          "output_type": "stream",
          "name": "stdout",
          "text": [
            "La cantidad de filas que tenemos es: 270765 \n",
            "Y la cantidad de columnas es: 18 \n",
            "\n",
            "Las primeras columnas de nuestro data set nos arrojan la siguiente información:\n"
          ]
        },
        {
          "output_type": "execute_result",
          "data": {
            "text/plain": [
              "    AÑO  CBML CLASE_ACCIDENTE      DIRECCION       DIRECCION ENCASILLADA  \\\n",
              "0  2015  1013  Caida Ocupante    CR 46 CL 43    CR  046   043  000 00000   \n",
              "1  2015  1020          Choque  CR 43 A CL 29  CR  043 A   029  000 00000   \n",
              "2  2015  0205            Otro    CR 46 CL 37    CR  046   037  000 00000   \n",
              "3  2015  0101       Atropello   CR 34 CL 112    CR  034   112  000 00000   \n",
              "4  2015  1504          Choque    CR 50 CL 14    CR  050   014  000 00000   \n",
              "\n",
              "         DISEÑO  EXPEDIENTE      FECHA_ACCIDENTE          FECHA_ACCIDENTES  \\\n",
              "0  Tramo de via  A000259731  21/10/2015 05:58:00  2015-10-21T10:58:00.000Z   \n",
              "1  Tramo de via  A000261725  05/11/2015 03:00:00  2015-11-05T08:00:00.000Z   \n",
              "2  Tramo de via  A000259739  21/10/2015 07:40:00  2015-10-21T12:40:00.000Z   \n",
              "3  Tramo de via  A000259752  21/10/2015 12:00:00  2015-10-21T17:00:00.000Z   \n",
              "4  Tramo de via  A000259949  03/11/2015 06:16:00  2015-11-03T11:16:00.000Z   \n",
              "\n",
              "  GRAVEDAD_ACCIDENTE  MES NRO_RADICADO NUMCOMUNA                     BARRIO  \\\n",
              "0        Con heridos   10      1508668        10               Barrio Colón   \n",
              "1         Solo daños   11      1510621        10                  San Diego   \n",
              "2        Con heridos   10      1508691        02                 La Francia   \n",
              "3        Con heridos   10      1508694        01  Santo Domingo Savio No. 1   \n",
              "4         Solo daños   11      1510634        15                   Santa Fé   \n",
              "\n",
              "          COMUNA                         LOCATION          X           Y  \n",
              "0  La Candelaria  [-75.5688011014, 6.24312304123]  834949.69  1182357.34  \n",
              "1  La Candelaria  [-75.5693883283, 6.22870030622]  834880.17  1180762.02  \n",
              "2     Santa Cruz  [-75.5503911403, 6.29869502502]  837004.94  1188499.17  \n",
              "3        Popular  [-75.5442195069, 6.30019383306]  837688.53  1188663.05  \n",
              "4       Guayabal   [-75.578180998, 6.21699243701]  833903.11  1179469.60  "
            ],
            "text/html": [
              "\n",
              "  <div id=\"df-075182f6-5069-44b9-8000-c09e077b979c\" class=\"colab-df-container\">\n",
              "    <div>\n",
              "<style scoped>\n",
              "    .dataframe tbody tr th:only-of-type {\n",
              "        vertical-align: middle;\n",
              "    }\n",
              "\n",
              "    .dataframe tbody tr th {\n",
              "        vertical-align: top;\n",
              "    }\n",
              "\n",
              "    .dataframe thead th {\n",
              "        text-align: right;\n",
              "    }\n",
              "</style>\n",
              "<table border=\"1\" class=\"dataframe\">\n",
              "  <thead>\n",
              "    <tr style=\"text-align: right;\">\n",
              "      <th></th>\n",
              "      <th>AÑO</th>\n",
              "      <th>CBML</th>\n",
              "      <th>CLASE_ACCIDENTE</th>\n",
              "      <th>DIRECCION</th>\n",
              "      <th>DIRECCION ENCASILLADA</th>\n",
              "      <th>DISEÑO</th>\n",
              "      <th>EXPEDIENTE</th>\n",
              "      <th>FECHA_ACCIDENTE</th>\n",
              "      <th>FECHA_ACCIDENTES</th>\n",
              "      <th>GRAVEDAD_ACCIDENTE</th>\n",
              "      <th>MES</th>\n",
              "      <th>NRO_RADICADO</th>\n",
              "      <th>NUMCOMUNA</th>\n",
              "      <th>BARRIO</th>\n",
              "      <th>COMUNA</th>\n",
              "      <th>LOCATION</th>\n",
              "      <th>X</th>\n",
              "      <th>Y</th>\n",
              "    </tr>\n",
              "  </thead>\n",
              "  <tbody>\n",
              "    <tr>\n",
              "      <th>0</th>\n",
              "      <td>2015</td>\n",
              "      <td>1013</td>\n",
              "      <td>Caida Ocupante</td>\n",
              "      <td>CR 46 CL 43</td>\n",
              "      <td>CR  046   043  000 00000</td>\n",
              "      <td>Tramo de via</td>\n",
              "      <td>A000259731</td>\n",
              "      <td>21/10/2015 05:58:00</td>\n",
              "      <td>2015-10-21T10:58:00.000Z</td>\n",
              "      <td>Con heridos</td>\n",
              "      <td>10</td>\n",
              "      <td>1508668</td>\n",
              "      <td>10</td>\n",
              "      <td>Barrio Colón</td>\n",
              "      <td>La Candelaria</td>\n",
              "      <td>[-75.5688011014, 6.24312304123]</td>\n",
              "      <td>834949.69</td>\n",
              "      <td>1182357.34</td>\n",
              "    </tr>\n",
              "    <tr>\n",
              "      <th>1</th>\n",
              "      <td>2015</td>\n",
              "      <td>1020</td>\n",
              "      <td>Choque</td>\n",
              "      <td>CR 43 A CL 29</td>\n",
              "      <td>CR  043 A   029  000 00000</td>\n",
              "      <td>Tramo de via</td>\n",
              "      <td>A000261725</td>\n",
              "      <td>05/11/2015 03:00:00</td>\n",
              "      <td>2015-11-05T08:00:00.000Z</td>\n",
              "      <td>Solo daños</td>\n",
              "      <td>11</td>\n",
              "      <td>1510621</td>\n",
              "      <td>10</td>\n",
              "      <td>San Diego</td>\n",
              "      <td>La Candelaria</td>\n",
              "      <td>[-75.5693883283, 6.22870030622]</td>\n",
              "      <td>834880.17</td>\n",
              "      <td>1180762.02</td>\n",
              "    </tr>\n",
              "    <tr>\n",
              "      <th>2</th>\n",
              "      <td>2015</td>\n",
              "      <td>0205</td>\n",
              "      <td>Otro</td>\n",
              "      <td>CR 46 CL 37</td>\n",
              "      <td>CR  046   037  000 00000</td>\n",
              "      <td>Tramo de via</td>\n",
              "      <td>A000259739</td>\n",
              "      <td>21/10/2015 07:40:00</td>\n",
              "      <td>2015-10-21T12:40:00.000Z</td>\n",
              "      <td>Con heridos</td>\n",
              "      <td>10</td>\n",
              "      <td>1508691</td>\n",
              "      <td>02</td>\n",
              "      <td>La Francia</td>\n",
              "      <td>Santa Cruz</td>\n",
              "      <td>[-75.5503911403, 6.29869502502]</td>\n",
              "      <td>837004.94</td>\n",
              "      <td>1188499.17</td>\n",
              "    </tr>\n",
              "    <tr>\n",
              "      <th>3</th>\n",
              "      <td>2015</td>\n",
              "      <td>0101</td>\n",
              "      <td>Atropello</td>\n",
              "      <td>CR 34 CL 112</td>\n",
              "      <td>CR  034   112  000 00000</td>\n",
              "      <td>Tramo de via</td>\n",
              "      <td>A000259752</td>\n",
              "      <td>21/10/2015 12:00:00</td>\n",
              "      <td>2015-10-21T17:00:00.000Z</td>\n",
              "      <td>Con heridos</td>\n",
              "      <td>10</td>\n",
              "      <td>1508694</td>\n",
              "      <td>01</td>\n",
              "      <td>Santo Domingo Savio No. 1</td>\n",
              "      <td>Popular</td>\n",
              "      <td>[-75.5442195069, 6.30019383306]</td>\n",
              "      <td>837688.53</td>\n",
              "      <td>1188663.05</td>\n",
              "    </tr>\n",
              "    <tr>\n",
              "      <th>4</th>\n",
              "      <td>2015</td>\n",
              "      <td>1504</td>\n",
              "      <td>Choque</td>\n",
              "      <td>CR 50 CL 14</td>\n",
              "      <td>CR  050   014  000 00000</td>\n",
              "      <td>Tramo de via</td>\n",
              "      <td>A000259949</td>\n",
              "      <td>03/11/2015 06:16:00</td>\n",
              "      <td>2015-11-03T11:16:00.000Z</td>\n",
              "      <td>Solo daños</td>\n",
              "      <td>11</td>\n",
              "      <td>1510634</td>\n",
              "      <td>15</td>\n",
              "      <td>Santa Fé</td>\n",
              "      <td>Guayabal</td>\n",
              "      <td>[-75.578180998, 6.21699243701]</td>\n",
              "      <td>833903.11</td>\n",
              "      <td>1179469.60</td>\n",
              "    </tr>\n",
              "  </tbody>\n",
              "</table>\n",
              "</div>\n",
              "    <div class=\"colab-df-buttons\">\n",
              "\n",
              "  <div class=\"colab-df-container\">\n",
              "    <button class=\"colab-df-convert\" onclick=\"convertToInteractive('df-075182f6-5069-44b9-8000-c09e077b979c')\"\n",
              "            title=\"Convert this dataframe to an interactive table.\"\n",
              "            style=\"display:none;\">\n",
              "\n",
              "  <svg xmlns=\"http://www.w3.org/2000/svg\" height=\"24px\" viewBox=\"0 -960 960 960\">\n",
              "    <path d=\"M120-120v-720h720v720H120Zm60-500h600v-160H180v160Zm220 220h160v-160H400v160Zm0 220h160v-160H400v160ZM180-400h160v-160H180v160Zm440 0h160v-160H620v160ZM180-180h160v-160H180v160Zm440 0h160v-160H620v160Z\"/>\n",
              "  </svg>\n",
              "    </button>\n",
              "\n",
              "  <style>\n",
              "    .colab-df-container {\n",
              "      display:flex;\n",
              "      gap: 12px;\n",
              "    }\n",
              "\n",
              "    .colab-df-convert {\n",
              "      background-color: #E8F0FE;\n",
              "      border: none;\n",
              "      border-radius: 50%;\n",
              "      cursor: pointer;\n",
              "      display: none;\n",
              "      fill: #1967D2;\n",
              "      height: 32px;\n",
              "      padding: 0 0 0 0;\n",
              "      width: 32px;\n",
              "    }\n",
              "\n",
              "    .colab-df-convert:hover {\n",
              "      background-color: #E2EBFA;\n",
              "      box-shadow: 0px 1px 2px rgba(60, 64, 67, 0.3), 0px 1px 3px 1px rgba(60, 64, 67, 0.15);\n",
              "      fill: #174EA6;\n",
              "    }\n",
              "\n",
              "    .colab-df-buttons div {\n",
              "      margin-bottom: 4px;\n",
              "    }\n",
              "\n",
              "    [theme=dark] .colab-df-convert {\n",
              "      background-color: #3B4455;\n",
              "      fill: #D2E3FC;\n",
              "    }\n",
              "\n",
              "    [theme=dark] .colab-df-convert:hover {\n",
              "      background-color: #434B5C;\n",
              "      box-shadow: 0px 1px 3px 1px rgba(0, 0, 0, 0.15);\n",
              "      filter: drop-shadow(0px 1px 2px rgba(0, 0, 0, 0.3));\n",
              "      fill: #FFFFFF;\n",
              "    }\n",
              "  </style>\n",
              "\n",
              "    <script>\n",
              "      const buttonEl =\n",
              "        document.querySelector('#df-075182f6-5069-44b9-8000-c09e077b979c button.colab-df-convert');\n",
              "      buttonEl.style.display =\n",
              "        google.colab.kernel.accessAllowed ? 'block' : 'none';\n",
              "\n",
              "      async function convertToInteractive(key) {\n",
              "        const element = document.querySelector('#df-075182f6-5069-44b9-8000-c09e077b979c');\n",
              "        const dataTable =\n",
              "          await google.colab.kernel.invokeFunction('convertToInteractive',\n",
              "                                                    [key], {});\n",
              "        if (!dataTable) return;\n",
              "\n",
              "        const docLinkHtml = 'Like what you see? Visit the ' +\n",
              "          '<a target=\"_blank\" href=https://colab.research.google.com/notebooks/data_table.ipynb>data table notebook</a>'\n",
              "          + ' to learn more about interactive tables.';\n",
              "        element.innerHTML = '';\n",
              "        dataTable['output_type'] = 'display_data';\n",
              "        await google.colab.output.renderOutput(dataTable, element);\n",
              "        const docLink = document.createElement('div');\n",
              "        docLink.innerHTML = docLinkHtml;\n",
              "        element.appendChild(docLink);\n",
              "      }\n",
              "    </script>\n",
              "  </div>\n",
              "\n",
              "\n",
              "<div id=\"df-8636eccf-bd21-4f7b-9573-f93669bf2316\">\n",
              "  <button class=\"colab-df-quickchart\" onclick=\"quickchart('df-8636eccf-bd21-4f7b-9573-f93669bf2316')\"\n",
              "            title=\"Suggest charts.\"\n",
              "            style=\"display:none;\">\n",
              "\n",
              "<svg xmlns=\"http://www.w3.org/2000/svg\" height=\"24px\"viewBox=\"0 0 24 24\"\n",
              "     width=\"24px\">\n",
              "    <g>\n",
              "        <path d=\"M19 3H5c-1.1 0-2 .9-2 2v14c0 1.1.9 2 2 2h14c1.1 0 2-.9 2-2V5c0-1.1-.9-2-2-2zM9 17H7v-7h2v7zm4 0h-2V7h2v10zm4 0h-2v-4h2v4z\"/>\n",
              "    </g>\n",
              "</svg>\n",
              "  </button>\n",
              "\n",
              "<style>\n",
              "  .colab-df-quickchart {\n",
              "      --bg-color: #E8F0FE;\n",
              "      --fill-color: #1967D2;\n",
              "      --hover-bg-color: #E2EBFA;\n",
              "      --hover-fill-color: #174EA6;\n",
              "      --disabled-fill-color: #AAA;\n",
              "      --disabled-bg-color: #DDD;\n",
              "  }\n",
              "\n",
              "  [theme=dark] .colab-df-quickchart {\n",
              "      --bg-color: #3B4455;\n",
              "      --fill-color: #D2E3FC;\n",
              "      --hover-bg-color: #434B5C;\n",
              "      --hover-fill-color: #FFFFFF;\n",
              "      --disabled-bg-color: #3B4455;\n",
              "      --disabled-fill-color: #666;\n",
              "  }\n",
              "\n",
              "  .colab-df-quickchart {\n",
              "    background-color: var(--bg-color);\n",
              "    border: none;\n",
              "    border-radius: 50%;\n",
              "    cursor: pointer;\n",
              "    display: none;\n",
              "    fill: var(--fill-color);\n",
              "    height: 32px;\n",
              "    padding: 0;\n",
              "    width: 32px;\n",
              "  }\n",
              "\n",
              "  .colab-df-quickchart:hover {\n",
              "    background-color: var(--hover-bg-color);\n",
              "    box-shadow: 0 1px 2px rgba(60, 64, 67, 0.3), 0 1px 3px 1px rgba(60, 64, 67, 0.15);\n",
              "    fill: var(--button-hover-fill-color);\n",
              "  }\n",
              "\n",
              "  .colab-df-quickchart-complete:disabled,\n",
              "  .colab-df-quickchart-complete:disabled:hover {\n",
              "    background-color: var(--disabled-bg-color);\n",
              "    fill: var(--disabled-fill-color);\n",
              "    box-shadow: none;\n",
              "  }\n",
              "\n",
              "  .colab-df-spinner {\n",
              "    border: 2px solid var(--fill-color);\n",
              "    border-color: transparent;\n",
              "    border-bottom-color: var(--fill-color);\n",
              "    animation:\n",
              "      spin 1s steps(1) infinite;\n",
              "  }\n",
              "\n",
              "  @keyframes spin {\n",
              "    0% {\n",
              "      border-color: transparent;\n",
              "      border-bottom-color: var(--fill-color);\n",
              "      border-left-color: var(--fill-color);\n",
              "    }\n",
              "    20% {\n",
              "      border-color: transparent;\n",
              "      border-left-color: var(--fill-color);\n",
              "      border-top-color: var(--fill-color);\n",
              "    }\n",
              "    30% {\n",
              "      border-color: transparent;\n",
              "      border-left-color: var(--fill-color);\n",
              "      border-top-color: var(--fill-color);\n",
              "      border-right-color: var(--fill-color);\n",
              "    }\n",
              "    40% {\n",
              "      border-color: transparent;\n",
              "      border-right-color: var(--fill-color);\n",
              "      border-top-color: var(--fill-color);\n",
              "    }\n",
              "    60% {\n",
              "      border-color: transparent;\n",
              "      border-right-color: var(--fill-color);\n",
              "    }\n",
              "    80% {\n",
              "      border-color: transparent;\n",
              "      border-right-color: var(--fill-color);\n",
              "      border-bottom-color: var(--fill-color);\n",
              "    }\n",
              "    90% {\n",
              "      border-color: transparent;\n",
              "      border-bottom-color: var(--fill-color);\n",
              "    }\n",
              "  }\n",
              "</style>\n",
              "\n",
              "  <script>\n",
              "    async function quickchart(key) {\n",
              "      const quickchartButtonEl =\n",
              "        document.querySelector('#' + key + ' button');\n",
              "      quickchartButtonEl.disabled = true;  // To prevent multiple clicks.\n",
              "      quickchartButtonEl.classList.add('colab-df-spinner');\n",
              "      try {\n",
              "        const charts = await google.colab.kernel.invokeFunction(\n",
              "            'suggestCharts', [key], {});\n",
              "      } catch (error) {\n",
              "        console.error('Error during call to suggestCharts:', error);\n",
              "      }\n",
              "      quickchartButtonEl.classList.remove('colab-df-spinner');\n",
              "      quickchartButtonEl.classList.add('colab-df-quickchart-complete');\n",
              "    }\n",
              "    (() => {\n",
              "      let quickchartButtonEl =\n",
              "        document.querySelector('#df-8636eccf-bd21-4f7b-9573-f93669bf2316 button');\n",
              "      quickchartButtonEl.style.display =\n",
              "        google.colab.kernel.accessAllowed ? 'block' : 'none';\n",
              "    })();\n",
              "  </script>\n",
              "</div>\n",
              "    </div>\n",
              "  </div>\n"
            ]
          },
          "metadata": {},
          "execution_count": 201
        }
      ]
    },
    {
      "cell_type": "code",
      "source": [
        "df.info()"
      ],
      "metadata": {
        "colab": {
          "base_uri": "https://localhost:8080/"
        },
        "id": "8czXO7Ml6yk7",
        "outputId": "917fecc7-e99c-424c-8081-3e279a1a408b"
      },
      "execution_count": 202,
      "outputs": [
        {
          "output_type": "stream",
          "name": "stdout",
          "text": [
            "<class 'pandas.core.frame.DataFrame'>\n",
            "RangeIndex: 270765 entries, 0 to 270764\n",
            "Data columns (total 18 columns):\n",
            " #   Column                 Non-Null Count   Dtype  \n",
            "---  ------                 --------------   -----  \n",
            " 0   AÑO                    270765 non-null  object \n",
            " 1   CBML                   252609 non-null  object \n",
            " 2   CLASE_ACCIDENTE        270759 non-null  object \n",
            " 3   DIRECCION              270765 non-null  object \n",
            " 4   DIRECCION ENCASILLADA  270374 non-null  object \n",
            " 5   DISEÑO                 269617 non-null  object \n",
            " 6   EXPEDIENTE             270655 non-null  object \n",
            " 7   FECHA_ACCIDENTE        270765 non-null  object \n",
            " 8   FECHA_ACCIDENTES       270765 non-null  object \n",
            " 9   GRAVEDAD_ACCIDENTE     270765 non-null  object \n",
            " 10  MES                    270765 non-null  int64  \n",
            " 11  NRO_RADICADO           270760 non-null  object \n",
            " 12  NUMCOMUNA              270765 non-null  object \n",
            " 13  BARRIO                 251759 non-null  object \n",
            " 14  COMUNA                 257967 non-null  object \n",
            " 15  LOCATION               270765 non-null  object \n",
            " 16  X                      270765 non-null  float64\n",
            " 17  Y                      270765 non-null  float64\n",
            "dtypes: float64(2), int64(1), object(15)\n",
            "memory usage: 37.2+ MB\n"
          ]
        }
      ]
    },
    {
      "cell_type": "markdown",
      "source": [
        "Con lo anterior podemos darnos cuenta que tenemos varios datos faltantes en las siguientes columnas:\n",
        "\n",
        "- CBML = Codigo catastral que corresponde al codigo comuna, barrio, manzana, lote catastral de un predio.\n",
        "- CLASE_ACCIDENTE = Clasificación del IPAT sobre la clase de accidente de transito: choque, atropello, volcamiento, caida de ocupante, incendio, u otro (que no corresponde a las anteriores 5 clasificaciones, p. ej: sumersión)\n",
        "- DIRECCION ENCASILLADA = Dirección encasillada que entrega el geocodificador\n",
        "- DISEÑO = Sitio de la vía donde ocurrió el accidente: Cicloruta, Glorieta, Interseccion, Lote o Predio, Paso a Nivel, Paso Elevado, Paso Inferior, Pontón, Puente, Tramo de via, Tunel, Via peatonal\n",
        "- EXPEDIENTE = Consecutivo que asigna UNE, según el orden de llegada de los expedientes para su diligenciamiento\n",
        "- NRO_RADICADO = Consecutivo que asigna UNE, según el orden de llegada de los expedientes para su diligenciamiento\n",
        "- BARRIO = Barrio de ocurrencia del incidente vial\n",
        "- COMUNA = Denominación con la cual se identifica cada Comuna o Corregimiento. 01:Popular 02:Santa Cruz 03:Manrique 04:Aranjuez 05:Castilla 06:Doce de Octubre 07:Robledo 08:Villa Hermosa 09:Buenos Aires 10:La Candelaria 11:Laureles - Estadio 12:La América 13:San Javier 14:El Poblado 15:Guayabal 16:Belén 50:San Sebastián de Palmitas 60:San Cristobal 70:Altavista 80:San Antonio de Prado 90:Santa Elena 99:Toda la Ciudad"
      ],
      "metadata": {
        "id": "hqlsTdXi7DIj"
      }
    },
    {
      "cell_type": "code",
      "source": [
        "df.dtypes"
      ],
      "metadata": {
        "colab": {
          "base_uri": "https://localhost:8080/"
        },
        "id": "1KI94L5M8KAI",
        "outputId": "371c9e3a-a688-43d8-f326-f0bb616bf536"
      },
      "execution_count": 203,
      "outputs": [
        {
          "output_type": "execute_result",
          "data": {
            "text/plain": [
              "AÑO                       object\n",
              "CBML                      object\n",
              "CLASE_ACCIDENTE           object\n",
              "DIRECCION                 object\n",
              "DIRECCION ENCASILLADA     object\n",
              "DISEÑO                    object\n",
              "EXPEDIENTE                object\n",
              "FECHA_ACCIDENTE           object\n",
              "FECHA_ACCIDENTES          object\n",
              "GRAVEDAD_ACCIDENTE        object\n",
              "MES                        int64\n",
              "NRO_RADICADO              object\n",
              "NUMCOMUNA                 object\n",
              "BARRIO                    object\n",
              "COMUNA                    object\n",
              "LOCATION                  object\n",
              "X                        float64\n",
              "Y                        float64\n",
              "dtype: object"
            ]
          },
          "metadata": {},
          "execution_count": 203
        }
      ]
    },
    {
      "cell_type": "code",
      "source": [
        "# Validación de valores nulos\n",
        "null = df.isnull().sum()\n",
        "nullTable = pd.DataFrame({'Columna': df.columns, 'Valores nulos': null})\n",
        "nullTable = nullTable.reset_index(drop=True)\n",
        "nullTable"
      ],
      "metadata": {
        "colab": {
          "base_uri": "https://localhost:8080/",
          "height": 614
        },
        "id": "0GR6sOjQ8kIS",
        "outputId": "09e38c72-8a53-4390-e37d-56c9e4e30d85"
      },
      "execution_count": 204,
      "outputs": [
        {
          "output_type": "execute_result",
          "data": {
            "text/plain": [
              "                  Columna  Valores nulos\n",
              "0                     AÑO              0\n",
              "1                    CBML          18156\n",
              "2         CLASE_ACCIDENTE              6\n",
              "3               DIRECCION              0\n",
              "4   DIRECCION ENCASILLADA            391\n",
              "5                  DISEÑO           1148\n",
              "6              EXPEDIENTE            110\n",
              "7         FECHA_ACCIDENTE              0\n",
              "8        FECHA_ACCIDENTES              0\n",
              "9      GRAVEDAD_ACCIDENTE              0\n",
              "10                    MES              0\n",
              "11           NRO_RADICADO              5\n",
              "12              NUMCOMUNA              0\n",
              "13                 BARRIO          19006\n",
              "14                 COMUNA          12798\n",
              "15               LOCATION              0\n",
              "16                      X              0\n",
              "17                      Y              0"
            ],
            "text/html": [
              "\n",
              "  <div id=\"df-9d1cbedc-edca-43cd-8cc9-dfc5cbf508ac\" class=\"colab-df-container\">\n",
              "    <div>\n",
              "<style scoped>\n",
              "    .dataframe tbody tr th:only-of-type {\n",
              "        vertical-align: middle;\n",
              "    }\n",
              "\n",
              "    .dataframe tbody tr th {\n",
              "        vertical-align: top;\n",
              "    }\n",
              "\n",
              "    .dataframe thead th {\n",
              "        text-align: right;\n",
              "    }\n",
              "</style>\n",
              "<table border=\"1\" class=\"dataframe\">\n",
              "  <thead>\n",
              "    <tr style=\"text-align: right;\">\n",
              "      <th></th>\n",
              "      <th>Columna</th>\n",
              "      <th>Valores nulos</th>\n",
              "    </tr>\n",
              "  </thead>\n",
              "  <tbody>\n",
              "    <tr>\n",
              "      <th>0</th>\n",
              "      <td>AÑO</td>\n",
              "      <td>0</td>\n",
              "    </tr>\n",
              "    <tr>\n",
              "      <th>1</th>\n",
              "      <td>CBML</td>\n",
              "      <td>18156</td>\n",
              "    </tr>\n",
              "    <tr>\n",
              "      <th>2</th>\n",
              "      <td>CLASE_ACCIDENTE</td>\n",
              "      <td>6</td>\n",
              "    </tr>\n",
              "    <tr>\n",
              "      <th>3</th>\n",
              "      <td>DIRECCION</td>\n",
              "      <td>0</td>\n",
              "    </tr>\n",
              "    <tr>\n",
              "      <th>4</th>\n",
              "      <td>DIRECCION ENCASILLADA</td>\n",
              "      <td>391</td>\n",
              "    </tr>\n",
              "    <tr>\n",
              "      <th>5</th>\n",
              "      <td>DISEÑO</td>\n",
              "      <td>1148</td>\n",
              "    </tr>\n",
              "    <tr>\n",
              "      <th>6</th>\n",
              "      <td>EXPEDIENTE</td>\n",
              "      <td>110</td>\n",
              "    </tr>\n",
              "    <tr>\n",
              "      <th>7</th>\n",
              "      <td>FECHA_ACCIDENTE</td>\n",
              "      <td>0</td>\n",
              "    </tr>\n",
              "    <tr>\n",
              "      <th>8</th>\n",
              "      <td>FECHA_ACCIDENTES</td>\n",
              "      <td>0</td>\n",
              "    </tr>\n",
              "    <tr>\n",
              "      <th>9</th>\n",
              "      <td>GRAVEDAD_ACCIDENTE</td>\n",
              "      <td>0</td>\n",
              "    </tr>\n",
              "    <tr>\n",
              "      <th>10</th>\n",
              "      <td>MES</td>\n",
              "      <td>0</td>\n",
              "    </tr>\n",
              "    <tr>\n",
              "      <th>11</th>\n",
              "      <td>NRO_RADICADO</td>\n",
              "      <td>5</td>\n",
              "    </tr>\n",
              "    <tr>\n",
              "      <th>12</th>\n",
              "      <td>NUMCOMUNA</td>\n",
              "      <td>0</td>\n",
              "    </tr>\n",
              "    <tr>\n",
              "      <th>13</th>\n",
              "      <td>BARRIO</td>\n",
              "      <td>19006</td>\n",
              "    </tr>\n",
              "    <tr>\n",
              "      <th>14</th>\n",
              "      <td>COMUNA</td>\n",
              "      <td>12798</td>\n",
              "    </tr>\n",
              "    <tr>\n",
              "      <th>15</th>\n",
              "      <td>LOCATION</td>\n",
              "      <td>0</td>\n",
              "    </tr>\n",
              "    <tr>\n",
              "      <th>16</th>\n",
              "      <td>X</td>\n",
              "      <td>0</td>\n",
              "    </tr>\n",
              "    <tr>\n",
              "      <th>17</th>\n",
              "      <td>Y</td>\n",
              "      <td>0</td>\n",
              "    </tr>\n",
              "  </tbody>\n",
              "</table>\n",
              "</div>\n",
              "    <div class=\"colab-df-buttons\">\n",
              "\n",
              "  <div class=\"colab-df-container\">\n",
              "    <button class=\"colab-df-convert\" onclick=\"convertToInteractive('df-9d1cbedc-edca-43cd-8cc9-dfc5cbf508ac')\"\n",
              "            title=\"Convert this dataframe to an interactive table.\"\n",
              "            style=\"display:none;\">\n",
              "\n",
              "  <svg xmlns=\"http://www.w3.org/2000/svg\" height=\"24px\" viewBox=\"0 -960 960 960\">\n",
              "    <path d=\"M120-120v-720h720v720H120Zm60-500h600v-160H180v160Zm220 220h160v-160H400v160Zm0 220h160v-160H400v160ZM180-400h160v-160H180v160Zm440 0h160v-160H620v160ZM180-180h160v-160H180v160Zm440 0h160v-160H620v160Z\"/>\n",
              "  </svg>\n",
              "    </button>\n",
              "\n",
              "  <style>\n",
              "    .colab-df-container {\n",
              "      display:flex;\n",
              "      gap: 12px;\n",
              "    }\n",
              "\n",
              "    .colab-df-convert {\n",
              "      background-color: #E8F0FE;\n",
              "      border: none;\n",
              "      border-radius: 50%;\n",
              "      cursor: pointer;\n",
              "      display: none;\n",
              "      fill: #1967D2;\n",
              "      height: 32px;\n",
              "      padding: 0 0 0 0;\n",
              "      width: 32px;\n",
              "    }\n",
              "\n",
              "    .colab-df-convert:hover {\n",
              "      background-color: #E2EBFA;\n",
              "      box-shadow: 0px 1px 2px rgba(60, 64, 67, 0.3), 0px 1px 3px 1px rgba(60, 64, 67, 0.15);\n",
              "      fill: #174EA6;\n",
              "    }\n",
              "\n",
              "    .colab-df-buttons div {\n",
              "      margin-bottom: 4px;\n",
              "    }\n",
              "\n",
              "    [theme=dark] .colab-df-convert {\n",
              "      background-color: #3B4455;\n",
              "      fill: #D2E3FC;\n",
              "    }\n",
              "\n",
              "    [theme=dark] .colab-df-convert:hover {\n",
              "      background-color: #434B5C;\n",
              "      box-shadow: 0px 1px 3px 1px rgba(0, 0, 0, 0.15);\n",
              "      filter: drop-shadow(0px 1px 2px rgba(0, 0, 0, 0.3));\n",
              "      fill: #FFFFFF;\n",
              "    }\n",
              "  </style>\n",
              "\n",
              "    <script>\n",
              "      const buttonEl =\n",
              "        document.querySelector('#df-9d1cbedc-edca-43cd-8cc9-dfc5cbf508ac button.colab-df-convert');\n",
              "      buttonEl.style.display =\n",
              "        google.colab.kernel.accessAllowed ? 'block' : 'none';\n",
              "\n",
              "      async function convertToInteractive(key) {\n",
              "        const element = document.querySelector('#df-9d1cbedc-edca-43cd-8cc9-dfc5cbf508ac');\n",
              "        const dataTable =\n",
              "          await google.colab.kernel.invokeFunction('convertToInteractive',\n",
              "                                                    [key], {});\n",
              "        if (!dataTable) return;\n",
              "\n",
              "        const docLinkHtml = 'Like what you see? Visit the ' +\n",
              "          '<a target=\"_blank\" href=https://colab.research.google.com/notebooks/data_table.ipynb>data table notebook</a>'\n",
              "          + ' to learn more about interactive tables.';\n",
              "        element.innerHTML = '';\n",
              "        dataTable['output_type'] = 'display_data';\n",
              "        await google.colab.output.renderOutput(dataTable, element);\n",
              "        const docLink = document.createElement('div');\n",
              "        docLink.innerHTML = docLinkHtml;\n",
              "        element.appendChild(docLink);\n",
              "      }\n",
              "    </script>\n",
              "  </div>\n",
              "\n",
              "\n",
              "<div id=\"df-23f792ab-4cd2-4523-af2c-4e32e0565cea\">\n",
              "  <button class=\"colab-df-quickchart\" onclick=\"quickchart('df-23f792ab-4cd2-4523-af2c-4e32e0565cea')\"\n",
              "            title=\"Suggest charts.\"\n",
              "            style=\"display:none;\">\n",
              "\n",
              "<svg xmlns=\"http://www.w3.org/2000/svg\" height=\"24px\"viewBox=\"0 0 24 24\"\n",
              "     width=\"24px\">\n",
              "    <g>\n",
              "        <path d=\"M19 3H5c-1.1 0-2 .9-2 2v14c0 1.1.9 2 2 2h14c1.1 0 2-.9 2-2V5c0-1.1-.9-2-2-2zM9 17H7v-7h2v7zm4 0h-2V7h2v10zm4 0h-2v-4h2v4z\"/>\n",
              "    </g>\n",
              "</svg>\n",
              "  </button>\n",
              "\n",
              "<style>\n",
              "  .colab-df-quickchart {\n",
              "      --bg-color: #E8F0FE;\n",
              "      --fill-color: #1967D2;\n",
              "      --hover-bg-color: #E2EBFA;\n",
              "      --hover-fill-color: #174EA6;\n",
              "      --disabled-fill-color: #AAA;\n",
              "      --disabled-bg-color: #DDD;\n",
              "  }\n",
              "\n",
              "  [theme=dark] .colab-df-quickchart {\n",
              "      --bg-color: #3B4455;\n",
              "      --fill-color: #D2E3FC;\n",
              "      --hover-bg-color: #434B5C;\n",
              "      --hover-fill-color: #FFFFFF;\n",
              "      --disabled-bg-color: #3B4455;\n",
              "      --disabled-fill-color: #666;\n",
              "  }\n",
              "\n",
              "  .colab-df-quickchart {\n",
              "    background-color: var(--bg-color);\n",
              "    border: none;\n",
              "    border-radius: 50%;\n",
              "    cursor: pointer;\n",
              "    display: none;\n",
              "    fill: var(--fill-color);\n",
              "    height: 32px;\n",
              "    padding: 0;\n",
              "    width: 32px;\n",
              "  }\n",
              "\n",
              "  .colab-df-quickchart:hover {\n",
              "    background-color: var(--hover-bg-color);\n",
              "    box-shadow: 0 1px 2px rgba(60, 64, 67, 0.3), 0 1px 3px 1px rgba(60, 64, 67, 0.15);\n",
              "    fill: var(--button-hover-fill-color);\n",
              "  }\n",
              "\n",
              "  .colab-df-quickchart-complete:disabled,\n",
              "  .colab-df-quickchart-complete:disabled:hover {\n",
              "    background-color: var(--disabled-bg-color);\n",
              "    fill: var(--disabled-fill-color);\n",
              "    box-shadow: none;\n",
              "  }\n",
              "\n",
              "  .colab-df-spinner {\n",
              "    border: 2px solid var(--fill-color);\n",
              "    border-color: transparent;\n",
              "    border-bottom-color: var(--fill-color);\n",
              "    animation:\n",
              "      spin 1s steps(1) infinite;\n",
              "  }\n",
              "\n",
              "  @keyframes spin {\n",
              "    0% {\n",
              "      border-color: transparent;\n",
              "      border-bottom-color: var(--fill-color);\n",
              "      border-left-color: var(--fill-color);\n",
              "    }\n",
              "    20% {\n",
              "      border-color: transparent;\n",
              "      border-left-color: var(--fill-color);\n",
              "      border-top-color: var(--fill-color);\n",
              "    }\n",
              "    30% {\n",
              "      border-color: transparent;\n",
              "      border-left-color: var(--fill-color);\n",
              "      border-top-color: var(--fill-color);\n",
              "      border-right-color: var(--fill-color);\n",
              "    }\n",
              "    40% {\n",
              "      border-color: transparent;\n",
              "      border-right-color: var(--fill-color);\n",
              "      border-top-color: var(--fill-color);\n",
              "    }\n",
              "    60% {\n",
              "      border-color: transparent;\n",
              "      border-right-color: var(--fill-color);\n",
              "    }\n",
              "    80% {\n",
              "      border-color: transparent;\n",
              "      border-right-color: var(--fill-color);\n",
              "      border-bottom-color: var(--fill-color);\n",
              "    }\n",
              "    90% {\n",
              "      border-color: transparent;\n",
              "      border-bottom-color: var(--fill-color);\n",
              "    }\n",
              "  }\n",
              "</style>\n",
              "\n",
              "  <script>\n",
              "    async function quickchart(key) {\n",
              "      const quickchartButtonEl =\n",
              "        document.querySelector('#' + key + ' button');\n",
              "      quickchartButtonEl.disabled = true;  // To prevent multiple clicks.\n",
              "      quickchartButtonEl.classList.add('colab-df-spinner');\n",
              "      try {\n",
              "        const charts = await google.colab.kernel.invokeFunction(\n",
              "            'suggestCharts', [key], {});\n",
              "      } catch (error) {\n",
              "        console.error('Error during call to suggestCharts:', error);\n",
              "      }\n",
              "      quickchartButtonEl.classList.remove('colab-df-spinner');\n",
              "      quickchartButtonEl.classList.add('colab-df-quickchart-complete');\n",
              "    }\n",
              "    (() => {\n",
              "      let quickchartButtonEl =\n",
              "        document.querySelector('#df-23f792ab-4cd2-4523-af2c-4e32e0565cea button');\n",
              "      quickchartButtonEl.style.display =\n",
              "        google.colab.kernel.accessAllowed ? 'block' : 'none';\n",
              "    })();\n",
              "  </script>\n",
              "</div>\n",
              "    </div>\n",
              "  </div>\n"
            ]
          },
          "metadata": {},
          "execution_count": 204
        }
      ]
    },
    {
      "cell_type": "markdown",
      "source": [
        "Cómo tenemos varios valores nulos, vamos a sacarlos del data set con la siguiente celda."
      ],
      "metadata": {
        "id": "i9771IbD-flK"
      }
    },
    {
      "cell_type": "code",
      "source": [
        "df = df[df['CBML'].isnull() != True]\n",
        "df = df[df['CLASE_ACCIDENTE'].isnull() != True]\n",
        "df = df[df['DIRECCION ENCASILLADA'].isnull() != True]\n",
        "df = df[df['DISEÑO'].isnull() != True]\n",
        "df = df[df['EXPEDIENTE'].isnull() != True]\n",
        "df = df[df['NRO_RADICADO'].isnull() != True]\n",
        "df = df[df['BARRIO'].isnull() != True]\n",
        "df = df[df['COMUNA'].isnull() != True]"
      ],
      "metadata": {
        "id": "0aTudLq39GL3"
      },
      "execution_count": 205,
      "outputs": []
    },
    {
      "cell_type": "markdown",
      "source": [
        "Ahora que no tenemos nulos, vamos a validar los valores duplicados que podemos tener."
      ],
      "metadata": {
        "id": "bYiInE7E-nQW"
      }
    },
    {
      "cell_type": "code",
      "source": [
        "# Validación de duplicados\n",
        "duplicates = df.duplicated().sum()\n",
        "duplicatesTable = pd.DataFrame({'Columna': df.columns, 'Duplicados': duplicates})\n",
        "duplicatesTable"
      ],
      "metadata": {
        "colab": {
          "base_uri": "https://localhost:8080/",
          "height": 614
        },
        "id": "54clzmDJ8xlr",
        "outputId": "25fa797d-eccf-4806-b6d7-590a602db3fd"
      },
      "execution_count": 206,
      "outputs": [
        {
          "output_type": "execute_result",
          "data": {
            "text/plain": [
              "                  Columna  Duplicados\n",
              "0                     AÑO           0\n",
              "1                    CBML           0\n",
              "2         CLASE_ACCIDENTE           0\n",
              "3               DIRECCION           0\n",
              "4   DIRECCION ENCASILLADA           0\n",
              "5                  DISEÑO           0\n",
              "6              EXPEDIENTE           0\n",
              "7         FECHA_ACCIDENTE           0\n",
              "8        FECHA_ACCIDENTES           0\n",
              "9      GRAVEDAD_ACCIDENTE           0\n",
              "10                    MES           0\n",
              "11           NRO_RADICADO           0\n",
              "12              NUMCOMUNA           0\n",
              "13                 BARRIO           0\n",
              "14                 COMUNA           0\n",
              "15               LOCATION           0\n",
              "16                      X           0\n",
              "17                      Y           0"
            ],
            "text/html": [
              "\n",
              "  <div id=\"df-7a6e0ee5-0507-4e41-9a1e-cf1964ce4d13\" class=\"colab-df-container\">\n",
              "    <div>\n",
              "<style scoped>\n",
              "    .dataframe tbody tr th:only-of-type {\n",
              "        vertical-align: middle;\n",
              "    }\n",
              "\n",
              "    .dataframe tbody tr th {\n",
              "        vertical-align: top;\n",
              "    }\n",
              "\n",
              "    .dataframe thead th {\n",
              "        text-align: right;\n",
              "    }\n",
              "</style>\n",
              "<table border=\"1\" class=\"dataframe\">\n",
              "  <thead>\n",
              "    <tr style=\"text-align: right;\">\n",
              "      <th></th>\n",
              "      <th>Columna</th>\n",
              "      <th>Duplicados</th>\n",
              "    </tr>\n",
              "  </thead>\n",
              "  <tbody>\n",
              "    <tr>\n",
              "      <th>0</th>\n",
              "      <td>AÑO</td>\n",
              "      <td>0</td>\n",
              "    </tr>\n",
              "    <tr>\n",
              "      <th>1</th>\n",
              "      <td>CBML</td>\n",
              "      <td>0</td>\n",
              "    </tr>\n",
              "    <tr>\n",
              "      <th>2</th>\n",
              "      <td>CLASE_ACCIDENTE</td>\n",
              "      <td>0</td>\n",
              "    </tr>\n",
              "    <tr>\n",
              "      <th>3</th>\n",
              "      <td>DIRECCION</td>\n",
              "      <td>0</td>\n",
              "    </tr>\n",
              "    <tr>\n",
              "      <th>4</th>\n",
              "      <td>DIRECCION ENCASILLADA</td>\n",
              "      <td>0</td>\n",
              "    </tr>\n",
              "    <tr>\n",
              "      <th>5</th>\n",
              "      <td>DISEÑO</td>\n",
              "      <td>0</td>\n",
              "    </tr>\n",
              "    <tr>\n",
              "      <th>6</th>\n",
              "      <td>EXPEDIENTE</td>\n",
              "      <td>0</td>\n",
              "    </tr>\n",
              "    <tr>\n",
              "      <th>7</th>\n",
              "      <td>FECHA_ACCIDENTE</td>\n",
              "      <td>0</td>\n",
              "    </tr>\n",
              "    <tr>\n",
              "      <th>8</th>\n",
              "      <td>FECHA_ACCIDENTES</td>\n",
              "      <td>0</td>\n",
              "    </tr>\n",
              "    <tr>\n",
              "      <th>9</th>\n",
              "      <td>GRAVEDAD_ACCIDENTE</td>\n",
              "      <td>0</td>\n",
              "    </tr>\n",
              "    <tr>\n",
              "      <th>10</th>\n",
              "      <td>MES</td>\n",
              "      <td>0</td>\n",
              "    </tr>\n",
              "    <tr>\n",
              "      <th>11</th>\n",
              "      <td>NRO_RADICADO</td>\n",
              "      <td>0</td>\n",
              "    </tr>\n",
              "    <tr>\n",
              "      <th>12</th>\n",
              "      <td>NUMCOMUNA</td>\n",
              "      <td>0</td>\n",
              "    </tr>\n",
              "    <tr>\n",
              "      <th>13</th>\n",
              "      <td>BARRIO</td>\n",
              "      <td>0</td>\n",
              "    </tr>\n",
              "    <tr>\n",
              "      <th>14</th>\n",
              "      <td>COMUNA</td>\n",
              "      <td>0</td>\n",
              "    </tr>\n",
              "    <tr>\n",
              "      <th>15</th>\n",
              "      <td>LOCATION</td>\n",
              "      <td>0</td>\n",
              "    </tr>\n",
              "    <tr>\n",
              "      <th>16</th>\n",
              "      <td>X</td>\n",
              "      <td>0</td>\n",
              "    </tr>\n",
              "    <tr>\n",
              "      <th>17</th>\n",
              "      <td>Y</td>\n",
              "      <td>0</td>\n",
              "    </tr>\n",
              "  </tbody>\n",
              "</table>\n",
              "</div>\n",
              "    <div class=\"colab-df-buttons\">\n",
              "\n",
              "  <div class=\"colab-df-container\">\n",
              "    <button class=\"colab-df-convert\" onclick=\"convertToInteractive('df-7a6e0ee5-0507-4e41-9a1e-cf1964ce4d13')\"\n",
              "            title=\"Convert this dataframe to an interactive table.\"\n",
              "            style=\"display:none;\">\n",
              "\n",
              "  <svg xmlns=\"http://www.w3.org/2000/svg\" height=\"24px\" viewBox=\"0 -960 960 960\">\n",
              "    <path d=\"M120-120v-720h720v720H120Zm60-500h600v-160H180v160Zm220 220h160v-160H400v160Zm0 220h160v-160H400v160ZM180-400h160v-160H180v160Zm440 0h160v-160H620v160ZM180-180h160v-160H180v160Zm440 0h160v-160H620v160Z\"/>\n",
              "  </svg>\n",
              "    </button>\n",
              "\n",
              "  <style>\n",
              "    .colab-df-container {\n",
              "      display:flex;\n",
              "      gap: 12px;\n",
              "    }\n",
              "\n",
              "    .colab-df-convert {\n",
              "      background-color: #E8F0FE;\n",
              "      border: none;\n",
              "      border-radius: 50%;\n",
              "      cursor: pointer;\n",
              "      display: none;\n",
              "      fill: #1967D2;\n",
              "      height: 32px;\n",
              "      padding: 0 0 0 0;\n",
              "      width: 32px;\n",
              "    }\n",
              "\n",
              "    .colab-df-convert:hover {\n",
              "      background-color: #E2EBFA;\n",
              "      box-shadow: 0px 1px 2px rgba(60, 64, 67, 0.3), 0px 1px 3px 1px rgba(60, 64, 67, 0.15);\n",
              "      fill: #174EA6;\n",
              "    }\n",
              "\n",
              "    .colab-df-buttons div {\n",
              "      margin-bottom: 4px;\n",
              "    }\n",
              "\n",
              "    [theme=dark] .colab-df-convert {\n",
              "      background-color: #3B4455;\n",
              "      fill: #D2E3FC;\n",
              "    }\n",
              "\n",
              "    [theme=dark] .colab-df-convert:hover {\n",
              "      background-color: #434B5C;\n",
              "      box-shadow: 0px 1px 3px 1px rgba(0, 0, 0, 0.15);\n",
              "      filter: drop-shadow(0px 1px 2px rgba(0, 0, 0, 0.3));\n",
              "      fill: #FFFFFF;\n",
              "    }\n",
              "  </style>\n",
              "\n",
              "    <script>\n",
              "      const buttonEl =\n",
              "        document.querySelector('#df-7a6e0ee5-0507-4e41-9a1e-cf1964ce4d13 button.colab-df-convert');\n",
              "      buttonEl.style.display =\n",
              "        google.colab.kernel.accessAllowed ? 'block' : 'none';\n",
              "\n",
              "      async function convertToInteractive(key) {\n",
              "        const element = document.querySelector('#df-7a6e0ee5-0507-4e41-9a1e-cf1964ce4d13');\n",
              "        const dataTable =\n",
              "          await google.colab.kernel.invokeFunction('convertToInteractive',\n",
              "                                                    [key], {});\n",
              "        if (!dataTable) return;\n",
              "\n",
              "        const docLinkHtml = 'Like what you see? Visit the ' +\n",
              "          '<a target=\"_blank\" href=https://colab.research.google.com/notebooks/data_table.ipynb>data table notebook</a>'\n",
              "          + ' to learn more about interactive tables.';\n",
              "        element.innerHTML = '';\n",
              "        dataTable['output_type'] = 'display_data';\n",
              "        await google.colab.output.renderOutput(dataTable, element);\n",
              "        const docLink = document.createElement('div');\n",
              "        docLink.innerHTML = docLinkHtml;\n",
              "        element.appendChild(docLink);\n",
              "      }\n",
              "    </script>\n",
              "  </div>\n",
              "\n",
              "\n",
              "<div id=\"df-5538dcc0-7702-44f6-a610-c6bdea4200ea\">\n",
              "  <button class=\"colab-df-quickchart\" onclick=\"quickchart('df-5538dcc0-7702-44f6-a610-c6bdea4200ea')\"\n",
              "            title=\"Suggest charts.\"\n",
              "            style=\"display:none;\">\n",
              "\n",
              "<svg xmlns=\"http://www.w3.org/2000/svg\" height=\"24px\"viewBox=\"0 0 24 24\"\n",
              "     width=\"24px\">\n",
              "    <g>\n",
              "        <path d=\"M19 3H5c-1.1 0-2 .9-2 2v14c0 1.1.9 2 2 2h14c1.1 0 2-.9 2-2V5c0-1.1-.9-2-2-2zM9 17H7v-7h2v7zm4 0h-2V7h2v10zm4 0h-2v-4h2v4z\"/>\n",
              "    </g>\n",
              "</svg>\n",
              "  </button>\n",
              "\n",
              "<style>\n",
              "  .colab-df-quickchart {\n",
              "      --bg-color: #E8F0FE;\n",
              "      --fill-color: #1967D2;\n",
              "      --hover-bg-color: #E2EBFA;\n",
              "      --hover-fill-color: #174EA6;\n",
              "      --disabled-fill-color: #AAA;\n",
              "      --disabled-bg-color: #DDD;\n",
              "  }\n",
              "\n",
              "  [theme=dark] .colab-df-quickchart {\n",
              "      --bg-color: #3B4455;\n",
              "      --fill-color: #D2E3FC;\n",
              "      --hover-bg-color: #434B5C;\n",
              "      --hover-fill-color: #FFFFFF;\n",
              "      --disabled-bg-color: #3B4455;\n",
              "      --disabled-fill-color: #666;\n",
              "  }\n",
              "\n",
              "  .colab-df-quickchart {\n",
              "    background-color: var(--bg-color);\n",
              "    border: none;\n",
              "    border-radius: 50%;\n",
              "    cursor: pointer;\n",
              "    display: none;\n",
              "    fill: var(--fill-color);\n",
              "    height: 32px;\n",
              "    padding: 0;\n",
              "    width: 32px;\n",
              "  }\n",
              "\n",
              "  .colab-df-quickchart:hover {\n",
              "    background-color: var(--hover-bg-color);\n",
              "    box-shadow: 0 1px 2px rgba(60, 64, 67, 0.3), 0 1px 3px 1px rgba(60, 64, 67, 0.15);\n",
              "    fill: var(--button-hover-fill-color);\n",
              "  }\n",
              "\n",
              "  .colab-df-quickchart-complete:disabled,\n",
              "  .colab-df-quickchart-complete:disabled:hover {\n",
              "    background-color: var(--disabled-bg-color);\n",
              "    fill: var(--disabled-fill-color);\n",
              "    box-shadow: none;\n",
              "  }\n",
              "\n",
              "  .colab-df-spinner {\n",
              "    border: 2px solid var(--fill-color);\n",
              "    border-color: transparent;\n",
              "    border-bottom-color: var(--fill-color);\n",
              "    animation:\n",
              "      spin 1s steps(1) infinite;\n",
              "  }\n",
              "\n",
              "  @keyframes spin {\n",
              "    0% {\n",
              "      border-color: transparent;\n",
              "      border-bottom-color: var(--fill-color);\n",
              "      border-left-color: var(--fill-color);\n",
              "    }\n",
              "    20% {\n",
              "      border-color: transparent;\n",
              "      border-left-color: var(--fill-color);\n",
              "      border-top-color: var(--fill-color);\n",
              "    }\n",
              "    30% {\n",
              "      border-color: transparent;\n",
              "      border-left-color: var(--fill-color);\n",
              "      border-top-color: var(--fill-color);\n",
              "      border-right-color: var(--fill-color);\n",
              "    }\n",
              "    40% {\n",
              "      border-color: transparent;\n",
              "      border-right-color: var(--fill-color);\n",
              "      border-top-color: var(--fill-color);\n",
              "    }\n",
              "    60% {\n",
              "      border-color: transparent;\n",
              "      border-right-color: var(--fill-color);\n",
              "    }\n",
              "    80% {\n",
              "      border-color: transparent;\n",
              "      border-right-color: var(--fill-color);\n",
              "      border-bottom-color: var(--fill-color);\n",
              "    }\n",
              "    90% {\n",
              "      border-color: transparent;\n",
              "      border-bottom-color: var(--fill-color);\n",
              "    }\n",
              "  }\n",
              "</style>\n",
              "\n",
              "  <script>\n",
              "    async function quickchart(key) {\n",
              "      const quickchartButtonEl =\n",
              "        document.querySelector('#' + key + ' button');\n",
              "      quickchartButtonEl.disabled = true;  // To prevent multiple clicks.\n",
              "      quickchartButtonEl.classList.add('colab-df-spinner');\n",
              "      try {\n",
              "        const charts = await google.colab.kernel.invokeFunction(\n",
              "            'suggestCharts', [key], {});\n",
              "      } catch (error) {\n",
              "        console.error('Error during call to suggestCharts:', error);\n",
              "      }\n",
              "      quickchartButtonEl.classList.remove('colab-df-spinner');\n",
              "      quickchartButtonEl.classList.add('colab-df-quickchart-complete');\n",
              "    }\n",
              "    (() => {\n",
              "      let quickchartButtonEl =\n",
              "        document.querySelector('#df-5538dcc0-7702-44f6-a610-c6bdea4200ea button');\n",
              "      quickchartButtonEl.style.display =\n",
              "        google.colab.kernel.accessAllowed ? 'block' : 'none';\n",
              "    })();\n",
              "  </script>\n",
              "</div>\n",
              "    </div>\n",
              "  </div>\n"
            ]
          },
          "metadata": {},
          "execution_count": 206
        }
      ]
    },
    {
      "cell_type": "markdown",
      "source": [
        "Ya que no tenemos duplicados, vamos a empezar a validar los valores de las columnas que tenemos.\n",
        "\n",
        "## Año"
      ],
      "metadata": {
        "id": "CZa3HMHl-vMt"
      }
    },
    {
      "cell_type": "code",
      "source": [
        "df['AÑO'].unique()"
      ],
      "metadata": {
        "colab": {
          "base_uri": "https://localhost:8080/"
        },
        "id": "yzoxCnMy96xw",
        "outputId": "42889efa-7489-4096-eece-88cca66c407e"
      },
      "execution_count": 207,
      "outputs": [
        {
          "output_type": "execute_result",
          "data": {
            "text/plain": [
              "array(['2015', '2014', '2016', '2017', '2018', '2019\\\\r', '2019', '2020',\n",
              "       2020, 2015, 2014, 2016, 2017, 2018], dtype=object)"
            ]
          },
          "metadata": {},
          "execution_count": 207
        }
      ]
    },
    {
      "cell_type": "markdown",
      "source": [
        "Como vemos tenemos diversos valores para el mismo año, con ello en mente vamos a convertir la columna \"AÑO\" a tipo de datos string y luego vamos a extraer los primeros cuatro caracteres (que representan el año)."
      ],
      "metadata": {
        "id": "6k5ahWvo_1yO"
      }
    },
    {
      "cell_type": "code",
      "source": [
        "df[\"AÑO\"] = df[\"AÑO\"].astype(str).str[:4]\n",
        "df[\"AÑO\"].unique()"
      ],
      "metadata": {
        "colab": {
          "base_uri": "https://localhost:8080/"
        },
        "id": "D07UITxS-G-Z",
        "outputId": "e3d1456e-65eb-45c1-92ba-1bb6ad4b5618"
      },
      "execution_count": 208,
      "outputs": [
        {
          "output_type": "execute_result",
          "data": {
            "text/plain": [
              "array(['2015', '2014', '2016', '2017', '2018', '2019', '2020'],\n",
              "      dtype=object)"
            ]
          },
          "metadata": {},
          "execution_count": 208
        }
      ]
    },
    {
      "cell_type": "markdown",
      "source": [
        "## CBML"
      ],
      "metadata": {
        "id": "HMAsHyuqBDVP"
      }
    },
    {
      "cell_type": "code",
      "source": [
        "df[\"CBML\"].unique()"
      ],
      "metadata": {
        "colab": {
          "base_uri": "https://localhost:8080/"
        },
        "id": "e-u-yevRAbyj",
        "outputId": "42f7043e-b7df-4def-fa80-13587acfc9b1"
      },
      "execution_count": 209,
      "outputs": [
        {
          "output_type": "execute_result",
          "data": {
            "text/plain": [
              "array(['1013', '1020', '0205', '0101', '1504', '1417', '1105', '1009',\n",
              "       '1018', '0705', '0605', '1012', '0410', '0908', '0512', '0516',\n",
              "       '0911', '1116', '0905', '8000', '1419', '1415', '0405', '1502',\n",
              "       '0701', '1114', '0517', '1307', '0508', '0210', '0809', '1019',\n",
              "       '1113', '1102', '1612', '1010', '0815', '0712', '1017', '0511',\n",
              "       '0301', '1204', '0608', '0707', '1422', '0202', '1005', '1511',\n",
              "       '0103', '0207', '0718', '1423', '1004', '0802', '1006', '1110',\n",
              "       '1003', '0913', '0914', '0912', '1509', '0105', '1608', '0801',\n",
              "       '0709', '1507', '1103', '0402', '0505', '1603', '0415', '1014',\n",
              "       '1421', '1414', '1510', '0509', '0303', '0602', '0305', '1602',\n",
              "       '0606', '0401', '0607', '1610', '1101', '0209', '7001', '1309',\n",
              "       '1107', '1001', '1016', '1310', '0514', '0507', '1506', '1111',\n",
              "       '1615', '0417', '0804', '1503', '1404', '1108', '0412', '0413',\n",
              "       '0717', '0907', '0703', '1015', '6098', '0601', '1211', '1008',\n",
              "       '0513', '1115', '0807', '0310', '1011', '1601', '04100230053',\n",
              "       '0915', '1007', '1403', '0706', '1411', '0110', '0408', '0308',\n",
              "       '1621', '0725', '0407', '0409', '0510', '0519', '1208', '0306',\n",
              "       '1117', '0906', '1401', '6000', '0904', '1420', '1209', '0201',\n",
              "       '1605', '0708', '1308', '1205', '0713', '0909', '1318', '0710',\n",
              "       '0104', '1406', '9004', '1304', '1112', '1618', '0715', '1109',\n",
              "       '0806', '0503', '0411', '1203', '1207', '0302', '0711', '1405',\n",
              "       '1413', '1201', '0304', '0403', '0311', '0722', '1311', '1410',\n",
              "       '1613', '0307', '0406', '0604', '0502', '1316', '0501', '1202',\n",
              "       '1409', '0414', '0404', '1418', '0106', '0204', '0808', '0813',\n",
              "       '7002', '0724', '0313', '0515', '1305', '0309', '0812', '0211',\n",
              "       '0803', 'Inst_14', '9083', '1604', '1416', '1611', '0603', '1609',\n",
              "       '0720', '1104', '0504', '1412', '1619', '1408', '1313', '0714',\n",
              "       '1614', '0902', '1607', '0810', '1606', 'SN01', '8004', '1306',\n",
              "       '0612', '1616', '0610', '0107', '1407', '1206', 'Inst_16', '6089',\n",
              "       '0916', '1312', '0704', '0', '0206', '0208', '0112', '0611',\n",
              "       '1212', '7087', '6084', '0702', '0109', '0903', '1210', '6017',\n",
              "       '0819', '0816', '1213', '1620', '1106', '0312', '1303', '0102',\n",
              "       '0910', '1302', '0506', '8098', '7084', '0723', '1002', '0719',\n",
              "       '03020770009', '0416', '8005', '1301', '0108', '1501', '1315',\n",
              "       '6087', '0716', '0811', '0814', '0901', '6097', '1617', '1319',\n",
              "       '6010', '1317', '6009', '04150210001', '0609', '0111',\n",
              "       '07140070003', '05120020021', '5089', '0917', '1314', '0203',\n",
              "       '7096', '9086', '04130420012', '9008', '6012', '0314',\n",
              "       '04020060001', '8002', '09140040010', '6001', 'AUC1', '7085',\n",
              "       '9077', '0817', '6088', '5003', '7088', '0315', '9085', '6014',\n",
              "       '0805', '14', '5004', '7097', '11', '8001', '6085', '10', '6015',\n",
              "       '03020770002', '9011', '08190050002', '8003', '03120070459',\n",
              "       '09120370011', '5', '6086', '710', '914', '402', '516', '517',\n",
              "       '307', '513', '301', '108', '502', '80', '509', '507', '209',\n",
              "       '413', '407', '510', '1', '813', '605', '915', '4', '106', '414',\n",
              "       '519', '403', '608', '803', '912', '602', '707', '417', '16',\n",
              "       '910', '708', '303', '410', '202', '501', '512', '701', '715',\n",
              "       '204', '604', '504', '207', '905', '409', '603', '210', '60',\n",
              "       '723', '309', '911', '703', '906', '305', '907', '405', '609',\n",
              "       '812', '801', '302', '601', '819', '416', '506', '508', '412',\n",
              "       '713', '7', '806', '406', '306', '511', '15', '903', '205', '503',\n",
              "       '606', '201', '705', '308', '310', '505', '719', '8', '718', '6',\n",
              "       '104', '904', '607', '717', '411', '810', '103', '815', '401',\n",
              "       '102', '101', '90', '15070500004', '304', '111', '711', '9', '706',\n",
              "       '716', '408', '2', '415', '712', '9006', '807', '913', '12', '211',\n",
              "       '514', '902', '808', '702', '15100160011', '610', '611', '311',\n",
              "       '709', '908', '725', '70', '909', '722', '203', '13', '714', '206',\n",
              "       '916', '107', '724', '105', '515', '110', '809', '811', '313',\n",
              "       '208', '3', '917', '7086', '804', '109', '314', '404', '704',\n",
              "       '112', '720', '2060160380', '3020880015', '802', '2060100002',\n",
              "       '15030720004', '7140070003', '5120020021', '9005', '03020880015',\n",
              "       '901', '312', '8007', '2070240005', '814', '612', '817', '5002',\n",
              "       '9079', '06070090002', '9003', '6004', '9002', '02060160380',\n",
              "       '8089', '8008', '08100330013', '09040350017', '816', '3020770002',\n",
              "       '3020770009', '8006', '7083', '08190040051', '02060100002',\n",
              "       'Inst_19', '6016', 'AUC2', '06070640007', '16060170009'],\n",
              "      dtype=object)"
            ]
          },
          "metadata": {},
          "execution_count": 209
        }
      ]
    },
    {
      "cell_type": "markdown",
      "source": [
        "En este caso para CBML no se denota un patron que podamos utilizar para eliminar datos que no nos aporte, así que no le realizaremos ninguna manipulación."
      ],
      "metadata": {
        "id": "V4ptpAclBH-2"
      }
    },
    {
      "cell_type": "markdown",
      "source": [
        "## CLASE_ACCIDENTE"
      ],
      "metadata": {
        "id": "XZ86uaiLBd00"
      }
    },
    {
      "cell_type": "code",
      "source": [
        "df[\"CLASE_ACCIDENTE\"].unique()"
      ],
      "metadata": {
        "colab": {
          "base_uri": "https://localhost:8080/"
        },
        "id": "y6ZguCdVBR9F",
        "outputId": "560d25f0-6488-442c-e7b4-322050153e6f"
      },
      "execution_count": 210,
      "outputs": [
        {
          "output_type": "execute_result",
          "data": {
            "text/plain": [
              "array(['Caida Ocupante', 'Choque', 'Otro', 'Atropello', 'Volcamiento',\n",
              "       'Caída de Ocupante', 'Incendio'], dtype=object)"
            ]
          },
          "metadata": {},
          "execution_count": 210
        }
      ]
    },
    {
      "cell_type": "markdown",
      "source": [
        "Cómo podemos ver tenemos registros con \"Caída de Ocupante\", vamos a reemplazar esto con \"Caida de Ocupante\" y vamos a pasar todas las opciones a minuscula."
      ],
      "metadata": {
        "id": "M39hlCSTB0uC"
      }
    },
    {
      "cell_type": "code",
      "source": [
        "df[\"CLASE_ACCIDENTE\"] = df[\"CLASE_ACCIDENTE\"].map(lambda x : str(x).replace(\"Caída de Ocupante\", \"Caida Ocupante\").lower())\n",
        "df[\"CLASE_ACCIDENTE\"] = df[\"CLASE_ACCIDENTE\"].str.capitalize()\n",
        "df[\"CLASE_ACCIDENTE\"].unique()"
      ],
      "metadata": {
        "colab": {
          "base_uri": "https://localhost:8080/"
        },
        "id": "KHcLpEuoB9TX",
        "outputId": "547285b2-d750-418c-9576-23c734186cb7"
      },
      "execution_count": 211,
      "outputs": [
        {
          "output_type": "execute_result",
          "data": {
            "text/plain": [
              "array(['Caida ocupante', 'Choque', 'Otro', 'Atropello', 'Volcamiento',\n",
              "       'Incendio'], dtype=object)"
            ]
          },
          "metadata": {},
          "execution_count": 211
        }
      ]
    },
    {
      "cell_type": "markdown",
      "source": [
        "## DIRECCION"
      ],
      "metadata": {
        "id": "u9d1WgrWCY_I"
      }
    },
    {
      "cell_type": "markdown",
      "source": [
        "Validadremos un ejemplo de 20 registros tomados al azar para validar las direcciones."
      ],
      "metadata": {
        "id": "wXNa35SeCrO2"
      }
    },
    {
      "cell_type": "code",
      "source": [
        "df[\"DIRECCION\"].sample(20)"
      ],
      "metadata": {
        "colab": {
          "base_uri": "https://localhost:8080/"
        },
        "id": "JpSpkFUUCaa5",
        "outputId": "5fe78a24-deaf-4fed-e2b7-5788164707ef"
      },
      "execution_count": 212,
      "outputs": [
        {
          "output_type": "execute_result",
          "data": {
            "text/plain": [
              "51757        CR 86 CL 49 E\n",
              "191086         CR 69 CL 97\n",
              "209638         CR 53 CL 49\n",
              "154789         CL 57 CR 43\n",
              "1576         CR 64 C CL 72\n",
              "47074          CR 70 CL 51\n",
              "112698    CR 64 C CL 111 D\n",
              "270181      CL 111 CR 64 C\n",
              "118214          CR 51 CL 5\n",
              "17645          CR 65 CL 92\n",
              "57814          CR 63 CL 50\n",
              "103822       CR 80 CL 30 A\n",
              "176843       CR 48 A CL 87\n",
              "242960       CR 50 B CL 78\n",
              "123904         CR 57 CL 57\n",
              "87162        CL 47 D CR 86\n",
              "129715         CR 57 CL 51\n",
              "64742        CR 25 CL 10 E\n",
              "61079        Tv 39 B CL 78\n",
              "165780       CR 64 C CL 78\n",
              "Name: DIRECCION, dtype: object"
            ]
          },
          "metadata": {},
          "execution_count": 212
        }
      ]
    },
    {
      "cell_type": "markdown",
      "source": [
        "Por lo que podemos ver ya se encuentra correctamente esta columna, así que no será manipulada."
      ],
      "metadata": {
        "id": "4J1MRsGfC2xv"
      }
    },
    {
      "cell_type": "markdown",
      "source": [
        "## DIRECCION ENCASILLADA"
      ],
      "metadata": {
        "id": "wXOQafk6DCqc"
      }
    },
    {
      "cell_type": "markdown",
      "source": [
        "Validadremos un ejemplo de 20 registros tomados al azar para validar las direcciones encasilladas."
      ],
      "metadata": {
        "id": "1qHzs5KxDCqd"
      }
    },
    {
      "cell_type": "code",
      "source": [
        "df[\"DIRECCION ENCASILLADA\"].sample(20)"
      ],
      "metadata": {
        "colab": {
          "base_uri": "https://localhost:8080/"
        },
        "outputId": "7e4c1c42-bd31-4ee0-df1a-9c018aa56fc5",
        "id": "DkBHbQQ4DCqd"
      },
      "execution_count": 213,
      "outputs": [
        {
          "output_type": "execute_result",
          "data": {
            "text/plain": [
              "180625        CL  999   999  000 00000\n",
              "127100      CL  078 B   071  000 00000\n",
              "136923        CR  070   019  000 00000\n",
              "98259         CR  050   025  000 00000\n",
              "36923         CR  064   078  000 00000\n",
              "17944       CL  063 A   040  000 00000\n",
              "262027        CR  063   052  000 00000\n",
              "247841        CL  065   078  000 00000\n",
              "150597        CR  075   095  000 00000\n",
              "268674        CL  120   063  000 00000\n",
              "78172      CR  075 DA S 001  000 00000\n",
              "173708    CL  047 F   085 A  000 00000\n",
              "233803      CL  047 D   087  000 00000\n",
              "110192        CR  063   034  000 00000\n",
              "246397      CR  080 A   032  000 00000\n",
              "26527         CL  068   033  000 00000\n",
              "22845         CL  090   067  000 00000\n",
              "50759         CR  073   073  000 00000\n",
              "90232         CR  062   052  000 00000\n",
              "48268     CR  064 E   103 D  000 00000\n",
              "Name: DIRECCION ENCASILLADA, dtype: object"
            ]
          },
          "metadata": {},
          "execution_count": 213
        }
      ]
    },
    {
      "cell_type": "markdown",
      "source": [
        "Por lo que podemos ver igual que en la columna anterior esta ya se encuentra correctamente, así que tampoco será manipulada."
      ],
      "metadata": {
        "id": "-dS1bLvbDCqe"
      }
    },
    {
      "cell_type": "markdown",
      "source": [
        "## DISEÑO"
      ],
      "metadata": {
        "id": "J4fgLxgzDnO9"
      }
    },
    {
      "cell_type": "code",
      "source": [
        "df[\"DISEÑO\"].unique()"
      ],
      "metadata": {
        "colab": {
          "base_uri": "https://localhost:8080/"
        },
        "outputId": "91acc192-c1aa-430b-f154-73bba9ab19bc",
        "id": "hXotw-5IDnPD"
      },
      "execution_count": 214,
      "outputs": [
        {
          "output_type": "execute_result",
          "data": {
            "text/plain": [
              "array(['Tramo de via', 'Interseccion', 'Glorieta', 'Lote o Predio',\n",
              "       'Paso a Nivel', 'Puente', 'Paso Elevado', 'Ciclo Ruta',\n",
              "       'Paso Inferior', 'Via peatonal', 'Pontón', 'Tunel', 'Pont\\\\xF3n'],\n",
              "      dtype=object)"
            ]
          },
          "metadata": {},
          "execution_count": 214
        }
      ]
    },
    {
      "cell_type": "markdown",
      "source": [
        "Cómo podemos ver tenemos registros con \"Pontón\", vamos a reemplazar esto con \"Ponton\" y vamos a pasar todas las opciones a minuscula."
      ],
      "metadata": {
        "id": "mXvAh6OIDnPD"
      }
    },
    {
      "cell_type": "code",
      "source": [
        "df[\"DISEÑO\"] = df[\"DISEÑO\"].map(lambda x : str(x).replace(\"Pont\\\\xF3n\", \"Ponton\").lower())\n",
        "df[\"DISEÑO\"] = df[\"DISEÑO\"].str.capitalize()\n",
        "df[\"DISEÑO\"].unique()"
      ],
      "metadata": {
        "colab": {
          "base_uri": "https://localhost:8080/"
        },
        "outputId": "41bdf7f3-0c14-4fcb-a019-56cdf9ae0933",
        "id": "xVI4rd_wDnPE"
      },
      "execution_count": 215,
      "outputs": [
        {
          "output_type": "execute_result",
          "data": {
            "text/plain": [
              "array(['Tramo de via', 'Interseccion', 'Glorieta', 'Lote o predio',\n",
              "       'Paso a nivel', 'Puente', 'Paso elevado', 'Ciclo ruta',\n",
              "       'Paso inferior', 'Via peatonal', 'Pontón', 'Tunel', 'Ponton'],\n",
              "      dtype=object)"
            ]
          },
          "metadata": {},
          "execution_count": 215
        }
      ]
    },
    {
      "cell_type": "markdown",
      "source": [
        "## EXPEDIENTE"
      ],
      "metadata": {
        "id": "4SKDTm31EJat"
      }
    },
    {
      "cell_type": "code",
      "source": [
        "df[\"EXPEDIENTE\"].sample(20)"
      ],
      "metadata": {
        "colab": {
          "base_uri": "https://localhost:8080/"
        },
        "id": "Ug3DbjAmEIyS",
        "outputId": "77f07787-d9ee-44b7-aa38-f847a971d345"
      },
      "execution_count": 216,
      "outputs": [
        {
          "output_type": "execute_result",
          "data": {
            "text/plain": [
              "197303    A001011220\n",
              "69795     A001162940\n",
              "23213     A000773306\n",
              "215151    A000920716\n",
              "100344    A000922434\n",
              "26801     A000841384\n",
              "219061    A000665564\n",
              "101518    A000855153\n",
              "53031     A000782383\n",
              "52949     A000781296\n",
              "69962     A001163578\n",
              "93090     A001153407\n",
              "125679    A001074312\n",
              "46135     A000186972\n",
              "227507    A000667787\n",
              "194860    A001003562\n",
              "91635     A001148817\n",
              "42534     A001077111\n",
              "182357    A001150301\n",
              "160461    A000490704\n",
              "Name: EXPEDIENTE, dtype: object"
            ]
          },
          "metadata": {},
          "execution_count": 216
        }
      ]
    },
    {
      "cell_type": "markdown",
      "source": [
        "En este caso para EXPEDIENTE no se denota un patron que podamos utilizar para eliminar datos que no nos aporte de forma similar a CBML, así que no le realizaremos ninguna manipulación."
      ],
      "metadata": {
        "id": "kuPUKlHHEHBa"
      }
    },
    {
      "cell_type": "markdown",
      "source": [
        "## FECHA_ACCIDENTE y FECHA_ACCIDENTES"
      ],
      "metadata": {
        "id": "XZXAuxHSE5GQ"
      }
    },
    {
      "cell_type": "code",
      "source": [
        "df[\"FECHA_ACCIDENTE\"].sample(20)"
      ],
      "metadata": {
        "colab": {
          "base_uri": "https://localhost:8080/"
        },
        "id": "usoqDS8BEU_O",
        "outputId": "e039e2ae-42b6-4643-b4b4-88a2bb9a1bb5"
      },
      "execution_count": 217,
      "outputs": [
        {
          "output_type": "execute_result",
          "data": {
            "text/plain": [
              "158210    15/12/2014 10:30:00\n",
              "236268    24/12/2015 09:10:00\n",
              "56609     31/07/2014 14:10:00\n",
              "32400     27/04/2019 17:20:00\n",
              "106367    23/12/2017 17:30:00\n",
              "208594    21/09/2018 12:45:00\n",
              "42436     12/12/2019 23:40:00\n",
              "201261    29/11/2019 14:30:00\n",
              "11323     23/08/2016 08:30:00\n",
              "238308    08/02/2016 06:20:00\n",
              "123436    09/10/2019 07:30:00\n",
              "249514    11/06/2016 13:50:00\n",
              "137570    23/07/2014 06:40:00\n",
              "123882    17/10/2019 10:30:00\n",
              "211690    13/10/2018 16:40:00\n",
              "67939     30/05/2020 04:30:00\n",
              "69010     11/07/2020 13:10:00\n",
              "19925     14/08/2018 14:00:00\n",
              "201452    04/12/2019 05:00:00\n",
              "34982     03/07/2019 19:30:00\n",
              "Name: FECHA_ACCIDENTE, dtype: object"
            ]
          },
          "metadata": {},
          "execution_count": 217
        }
      ]
    },
    {
      "cell_type": "code",
      "source": [
        "df[\"FECHA_ACCIDENTE\"] = pd.to_datetime(df[\"FECHA_ACCIDENTE\"], dayfirst=True)\n",
        "df[\"FECHA_ACCIDENTE\"].sample(20)"
      ],
      "metadata": {
        "colab": {
          "base_uri": "https://localhost:8080/"
        },
        "id": "7AD27upEFClX",
        "outputId": "57c2cb5f-d3bb-47b1-9404-d4f9e84a47d5"
      },
      "execution_count": 218,
      "outputs": [
        {
          "output_type": "execute_result",
          "data": {
            "text/plain": [
              "105840   2017-12-11 18:40:00\n",
              "97738    2018-04-08 17:00:00\n",
              "69519    2020-08-05 10:33:00\n",
              "186105   2020-07-23 08:00:00\n",
              "160452   2016-12-13 00:00:00\n",
              "142781   2016-02-18 12:00:00\n",
              "251429   2017-07-21 10:30:00\n",
              "77648    2016-04-17 15:00:00\n",
              "209259   2018-09-08 12:00:00\n",
              "28563    2019-01-21 06:50:00\n",
              "74228    2016-01-25 07:25:00\n",
              "166641   2017-05-18 00:00:00\n",
              "211699   2018-10-14 23:00:00\n",
              "199596   2019-10-23 05:30:00\n",
              "234253   2018-01-14 17:50:00\n",
              "58425    2017-02-22 05:00:00\n",
              "233499   2018-01-06 01:00:00\n",
              "241231   2016-05-05 14:50:00\n",
              "70886    2015-09-17 05:30:00\n",
              "51886    2018-06-29 17:00:00\n",
              "Name: FECHA_ACCIDENTE, dtype: datetime64[ns]"
            ]
          },
          "metadata": {},
          "execution_count": 218
        }
      ]
    },
    {
      "cell_type": "code",
      "source": [
        "df[\"FECHA_ACCIDENTES\"] = pd.to_datetime(df[\"FECHA_ACCIDENTES\"])\n",
        "df[\"FECHA_ACCIDENTES\"].sample(20)"
      ],
      "metadata": {
        "colab": {
          "base_uri": "https://localhost:8080/"
        },
        "id": "g4GHaR3dFqIL",
        "outputId": "96ad418b-1199-4bb6-90e1-a431cc68daf7"
      },
      "execution_count": 219,
      "outputs": [
        {
          "output_type": "execute_result",
          "data": {
            "text/plain": [
              "98382    2018-05-19 09:00:00+00:00\n",
              "181296   2020-01-23 15:00:00+00:00\n",
              "149630   2016-08-13 19:41:00+00:00\n",
              "190307   2019-03-18 18:10:00+00:00\n",
              "204452   2018-02-16 01:20:00+00:00\n",
              "118086   2019-06-14 01:10:00+00:00\n",
              "41019    2019-11-12 13:00:00+00:00\n",
              "106728   2017-12-16 06:24:00+00:00\n",
              "78560    2016-07-16 18:30:00+00:00\n",
              "199823   2019-10-27 22:50:00+00:00\n",
              "133051   2017-08-25 19:15:00+00:00\n",
              "89305    2017-03-23 02:50:00+00:00\n",
              "26309    2018-04-15 07:30:00+00:00\n",
              "186862   2020-08-27 20:30:00+00:00\n",
              "37231    2019-08-21 13:45:00+00:00\n",
              "248347   2017-06-18 00:40:00+00:00\n",
              "234193   2018-01-05 17:20:00+00:00\n",
              "252936   2016-09-02 01:35:00+00:00\n",
              "140094   2015-11-27 09:45:00+00:00\n",
              "194352   2019-06-30 00:10:00+00:00\n",
              "Name: FECHA_ACCIDENTES, dtype: datetime64[ns, UTC]"
            ]
          },
          "metadata": {},
          "execution_count": 219
        }
      ]
    },
    {
      "cell_type": "markdown",
      "source": [
        "Dejamos ambas columnas de fecha con su tipo de datos correspondiente."
      ],
      "metadata": {
        "id": "03S-U4VcJENC"
      }
    },
    {
      "cell_type": "markdown",
      "source": [
        "## GRAVEDAD_ACCIDENTE"
      ],
      "metadata": {
        "id": "ISkyjVCzJMZD"
      }
    },
    {
      "cell_type": "code",
      "source": [
        "df[\"GRAVEDAD_ACCIDENTE\"].unique()"
      ],
      "metadata": {
        "colab": {
          "base_uri": "https://localhost:8080/"
        },
        "outputId": "c2422b03-1cf0-4bd8-d45e-d1ef47455a05",
        "id": "uw21aYiIJMZJ"
      },
      "execution_count": 220,
      "outputs": [
        {
          "output_type": "execute_result",
          "data": {
            "text/plain": [
              "array(['Con heridos', 'Solo daños', 'Solo da\\\\xF1os', 'Con muertos'],\n",
              "      dtype=object)"
            ]
          },
          "metadata": {},
          "execution_count": 220
        }
      ]
    },
    {
      "cell_type": "markdown",
      "source": [
        "Cómo podemos ver tenemos registros con \"Solo da\\\\xF1os\", vamos a reemplazar esto con \"Solo daños\" y vamos a pasar todas las opciones a minuscula."
      ],
      "metadata": {
        "id": "-UdufMcSJMZJ"
      }
    },
    {
      "cell_type": "code",
      "source": [
        "df[\"GRAVEDAD_ACCIDENTE\"] = df[\"GRAVEDAD_ACCIDENTE\"].map(lambda x : str(x).replace(\"Solo da\\\\xF1os\", \"Solo daños\").lower())\n",
        "df[\"GRAVEDAD_ACCIDENTE\"] = df[\"GRAVEDAD_ACCIDENTE\"].str.capitalize()\n",
        "df[\"GRAVEDAD_ACCIDENTE\"].unique()"
      ],
      "metadata": {
        "colab": {
          "base_uri": "https://localhost:8080/"
        },
        "outputId": "a9d46e15-4980-451c-bf09-4e8799067927",
        "id": "Das77q3TJMZJ"
      },
      "execution_count": 221,
      "outputs": [
        {
          "output_type": "execute_result",
          "data": {
            "text/plain": [
              "array(['Con heridos', 'Solo daños', 'Con muertos'], dtype=object)"
            ]
          },
          "metadata": {},
          "execution_count": 221
        }
      ]
    },
    {
      "cell_type": "markdown",
      "source": [
        "## MES"
      ],
      "metadata": {
        "id": "6XPdT8PPJav3"
      }
    },
    {
      "cell_type": "code",
      "source": [
        "df[\"MES\"].unique()"
      ],
      "metadata": {
        "colab": {
          "base_uri": "https://localhost:8080/"
        },
        "id": "gPxfVPDXJHd5",
        "outputId": "abc8365d-c37e-4d63-bd10-5789283ca51b"
      },
      "execution_count": 222,
      "outputs": [
        {
          "output_type": "execute_result",
          "data": {
            "text/plain": [
              "array([10, 11, 12,  9,  4,  3,  5,  6,  7,  8,  1,  2])"
            ]
          },
          "metadata": {},
          "execution_count": 222
        }
      ]
    },
    {
      "cell_type": "markdown",
      "source": [
        "Podemos ver que los meses están correctamente, no tenemos valores extraños."
      ],
      "metadata": {
        "id": "VdfNP3oEJkB8"
      }
    },
    {
      "cell_type": "markdown",
      "source": [
        "## NRO_RADICADO"
      ],
      "metadata": {
        "id": "gPhUeGaRJu7F"
      }
    },
    {
      "cell_type": "code",
      "source": [
        "df[\"NRO_RADICADO\"].sample(20)"
      ],
      "metadata": {
        "colab": {
          "base_uri": "https://localhost:8080/"
        },
        "outputId": "d72334de-c255-431e-8011-0883adeef4bc",
        "id": "P2Tf3MkdJu7L"
      },
      "execution_count": 223,
      "outputs": [
        {
          "output_type": "execute_result",
          "data": {
            "text/plain": [
              "3837      1496201\n",
              "15292     1614598\n",
              "229060    1604647\n",
              "21392     1639436\n",
              "96364     1720800\n",
              "238938    1473103\n",
              "326       1509330\n",
              "57487     1452520\n",
              "188386    1658102\n",
              "216931    1475959\n",
              "54863     1460562\n",
              "138298    1498258\n",
              "239713    1530112\n",
              "90340     1702542\n",
              "167261    1531630\n",
              "260933    1539071\n",
              "35878     1679437\n",
              "109616    1624562\n",
              "242166    1552936\n",
              "66721     1711529\n",
              "Name: NRO_RADICADO, dtype: object"
            ]
          },
          "metadata": {},
          "execution_count": 223
        }
      ]
    },
    {
      "cell_type": "markdown",
      "source": [
        "En este caso para NRO_RADICADO no se denota un patron que podamos utilizar para eliminar datos que no nos aporte de forma similar a CBML y EXPEDIENTE, así que no le realizaremos ninguna manipulación."
      ],
      "metadata": {
        "id": "sFvREFkVJu7L"
      }
    },
    {
      "cell_type": "markdown",
      "source": [
        "## NUMCOMUNA"
      ],
      "metadata": {
        "id": "4WEjEC1Sa1eS"
      }
    },
    {
      "cell_type": "code",
      "source": [
        "df[\"NUMCOMUNA\"].unique()"
      ],
      "metadata": {
        "colab": {
          "base_uri": "https://localhost:8080/"
        },
        "id": "r8L0o1WxJoLy",
        "outputId": "30825fe9-5ae1-4b45-bc2c-b5070edeed12"
      },
      "execution_count": 224,
      "outputs": [
        {
          "output_type": "execute_result",
          "data": {
            "text/plain": [
              "array(['10', '02', '01', '15', '14', '11', '07', '06', '04', '09', '05',\n",
              "       '80', '13', '08', '16', '03', '12', '70', '60', '90', 'In', 'SN',\n",
              "       '0', '50', 'AU', '5', '7', '9', '4', '3', '1', '2', '8', '6',\n",
              "       'Sin Inf'], dtype=object)"
            ]
          },
          "metadata": {},
          "execution_count": 224
        }
      ]
    },
    {
      "cell_type": "markdown",
      "source": [
        "Como vemos tenemos datos que no corresponden a comunas realmente, así que vamos a omitir los valores como:\n",
        "- \"AU\"\n",
        "- \"Sin Inf\"\n",
        "- \"In\"\n",
        "- \"SN\"\n",
        "- \"0\"\n",
        "\n",
        "Adicionalmente podemos ver valores como:\n",
        "- 60\n",
        "- 70\n",
        "- 80\n",
        "- 90\n",
        "\n",
        "Estos valores los reemplazaremos por:\n",
        "- 6\n",
        "- 7\n",
        "- 8\n",
        "- 9\n",
        "\n",
        "Respectivamente."
      ],
      "metadata": {
        "id": "svzSyuQTbFS6"
      }
    },
    {
      "cell_type": "code",
      "source": [
        "df = df[df[\"NUMCOMUNA\"] != \"AU\"]\n",
        "df = df[df[\"NUMCOMUNA\"] != \"Sin Inf\"]\n",
        "df = df[df[\"NUMCOMUNA\"] != \"In\"]\n",
        "df = df[df[\"NUMCOMUNA\"] != \"SN\"]\n",
        "df = df[df[\"NUMCOMUNA\"] != \"0\"]"
      ],
      "metadata": {
        "id": "WNNplTnocWNv"
      },
      "execution_count": 225,
      "outputs": []
    },
    {
      "cell_type": "code",
      "source": [
        "df[\"NUMCOMUNA\"] = df[\"NUMCOMUNA\"].map(lambda x : str(x).replace(\"60\", \"6\").lower())\n",
        "df[\"NUMCOMUNA\"] = df[\"NUMCOMUNA\"].map(lambda x : str(x).replace(\"70\", \"7\").lower())\n",
        "df[\"NUMCOMUNA\"] = df[\"NUMCOMUNA\"].map(lambda x : str(x).replace(\"80\", \"8\").lower())\n",
        "df[\"NUMCOMUNA\"] = df[\"NUMCOMUNA\"].map(lambda x : str(x).replace(\"90\", \"9\").lower())\n",
        "df[\"NUMCOMUNA\"].unique()"
      ],
      "metadata": {
        "colab": {
          "base_uri": "https://localhost:8080/"
        },
        "id": "AZBRk2-qcd3I",
        "outputId": "579a7783-bfe6-4d95-f6f3-d813e421a6c4"
      },
      "execution_count": 226,
      "outputs": [
        {
          "output_type": "execute_result",
          "data": {
            "text/plain": [
              "array(['10', '02', '01', '15', '14', '11', '07', '06', '04', '09', '05',\n",
              "       '8', '13', '08', '16', '03', '12', '7', '6', '9', '50', '5', '4',\n",
              "       '3', '1', '2'], dtype=object)"
            ]
          },
          "metadata": {},
          "execution_count": 226
        }
      ]
    },
    {
      "cell_type": "markdown",
      "source": [
        "Cómo vemos ya tenemos la información ajustada a las comunas de Medellín."
      ],
      "metadata": {
        "id": "Eg1uF84ocv09"
      }
    },
    {
      "cell_type": "markdown",
      "source": [
        "## BARRIO"
      ],
      "metadata": {
        "id": "g56dHaY_c1A1"
      }
    },
    {
      "cell_type": "code",
      "source": [
        "df[\"BARRIO\"].unique()"
      ],
      "metadata": {
        "colab": {
          "base_uri": "https://localhost:8080/"
        },
        "id": "Emahnieyc0JU",
        "outputId": "904e98a0-bb93-4e00-bb59-21538175ad86"
      },
      "execution_count": 227,
      "outputs": [
        {
          "output_type": "execute_result",
          "data": {
            "text/plain": [
              "array(['Barrio Colón', 'San Diego', 'La Francia',\n",
              "       'Santo Domingo Savio No. 1', 'Santa Fé', 'La Florida',\n",
              "       'Los Conquistadores', 'La Alpujarra', 'Villa Nueva',\n",
              "       'Facultad de Minas U. Nacional', 'La Esperanza',\n",
              "       'Perpetuo Socorro', 'Campo Valdés No. 1', 'Miraflores',\n",
              "       'Oleoducto', 'Terminal de Transporte', 'Gerona',\n",
              "       'U.D. Atanasio Girardot', 'Alejandro Echavarría',\n",
              "       'Cabecera San Antonio de Prado', 'Manila', 'Los Balsos No.2',\n",
              "       'Moravia', 'Tenche', 'Universidad Nacional', 'Los Colores',\n",
              "       'Caribe', 'Juan XXIII La Quiebra', 'Belalcázar', 'Santa Cruz',\n",
              "       'Sucre', 'La Candelaria', 'El Estadio', 'Suramericana',\n",
              "       'La Gloria', 'Centro Administrativo', 'Las Estancias',\n",
              "       'Aures No. 2', 'Los Ángeles', 'Castilla', 'La Salle', 'La América',\n",
              "       'Picacho', 'Bosques de San Pablo', 'La Aguacatala',\n",
              "       'Playón de Los Comuneros', 'Estación Villa', 'La Colina',\n",
              "       'Popular', 'Villa del Socorro', 'Cucaracho',\n",
              "       'Santa María de los Ángeles', 'El Chagualo', 'La Mansión',\n",
              "       'San Benito', 'La Castellana', 'Jesús Nazareno', 'Loreto',\n",
              "       'Asomadera No. 1', 'El Salvador', 'Cristo Rey', 'Moscú No. 2',\n",
              "       'La Mota', 'Villa Hermosa', 'Córdoba', 'Campo Amor', 'Naranjal',\n",
              "       'San Isidro', 'Boyacá', 'Belén', 'Miranda', 'Las Palmas',\n",
              "       'Patio Bonito', 'El Castillo', 'Guayabal', 'Girardot',\n",
              "       'Campo Valdés No. 2', 'Doce de Octubre No.1', 'El Raizal',\n",
              "       'Rosales', 'San Martín de Porres', 'Berlin', 'Kennedy',\n",
              "       'El Rincón', 'Carlos E. Restrepo', 'Moscú No. 1',\n",
              "       'Altavista Sector Central', 'San Javier No.1', 'Bolivariana',\n",
              "       'Prado', 'Boston', 'Veinte de Julio', 'Alfonso López',\n",
              "       'Héctor Abad Gómez', 'Parque Juan Pablo II', 'Lorena', 'Los Alpes',\n",
              "       'Parque Norte', 'La Ladera', 'Trinidad', 'Castropol', 'Laureles',\n",
              "       'La Piñuela', 'Aranjuez', 'Robledo', 'Buenos Aires', 'San Germán',\n",
              "       'Bomboná No. 1', 'Área de Expansión Pajarito', 'Santander',\n",
              "       'Simón Bolívar', 'Corazón de Jesús', 'Francisco Antonio Zea',\n",
              "       'Cuarta Brigada', 'Los Mangos', 'Versalles No. 2', 'Calle Nueva',\n",
              "       'Fátima', 'Asomadera No. 2', 'Guayaquil', 'Villa Carlota',\n",
              "       'La Pilarica', 'Los Balsos No.1', 'La Esperanza No. 2',\n",
              "       'San Pedro', 'Manrique Oriental', 'Cerro Nutibara',\n",
              "       'Nueva Villa de la Iguaná', 'Sevilla', 'Manrique Central No. 1',\n",
              "       'Tricentenario', 'El Progreso', 'Campo Alegre', 'El Pomar',\n",
              "       'Florida Nueva', 'Barrio Caicedo', 'Barrio Colombia',\n",
              "       'Cabecera Urbana San Cristobal', 'Los Cerros El Vergel', 'Astorga',\n",
              "       'Santa Mónica', 'La Isla', 'San Bernardo', 'Altamira',\n",
              "       'San Javier No.2', 'La Floresta', 'Aures No.1', 'Cataluña',\n",
              "       'Antonio Nariño', 'López de Mesa', 'Granizal', 'Las Lomas No.1',\n",
              "       'Los Alcázares', 'El Velódromo', 'Santa María de Los Ángeles',\n",
              "       'Nueva Villa de Aburrá', 'Villa Flora', 'Las Acacias',\n",
              "       'Llanaditas', 'Florencia', 'Las Esmeraldas', 'Los Pinos',\n",
              "       'El Danubio', 'Las Granjas', 'El Diamante', 'Lalinde',\n",
              "       'El Diamante No. 2', 'Ferrini', 'Santa Inés', 'Palermo', 'La Cruz',\n",
              "       'Olaya Herrera', 'Belencito', 'Los Naranjos', 'Altavista',\n",
              "       'Manrique Central No. 2', 'Universidad de Antioquia', 'Pedregal',\n",
              "       'Las Brisas', 'El Salado', 'Toscana', 'Calasanz', 'El Tesoro',\n",
              "       'Brasilia', 'Bermejal-Los Alamos', 'El Poblado', 'Villa Guadalupe',\n",
              "       'La Frontera', 'Enciso', 'Villatina', 'Aguas frias', 'Monteclaro',\n",
              "       'María Cano Carambolas', 'Cementerio Universal',\n",
              "       'Campo Valdés No.2', 'Metropolitano', 'Versalles No. 1',\n",
              "       'La Libertad', 'La Rosa', 'San Miguel',\n",
              "       'Suburbano Mirador del Poblado', 'Granada', 'Alejandría',\n",
              "       'Loma de los Bernal', 'Doce de Octubre No.2', 'La Hondonada',\n",
              "       'Santa Margarita', 'San Joaquín', 'Tejelo', 'San Lucas',\n",
              "       'Miravalle', 'Altos del Poblado', 'Manrique Central No.2',\n",
              "       'El Corazón', 'Bello Horizonte', 'La Palma', 'Barrio de Jesús',\n",
              "       'Diego Echavarría', 'El Pinal', 'Las Playas', 'La Oculta',\n",
              "       'La Pradera', 'El Triunfo', 'Las Violetas', 'Mirador del Doce',\n",
              "       'San Pablo', 'Las Lomas No.2', 'Santa Lucía',\n",
              "       'Suburbano Pedregal alto', 'Asomadera No. 3', 'Bomboná No.1',\n",
              "       'Betania', 'Facultad Veterinaria y Zootecnia U.de.A.', 'Andalucía',\n",
              "       'Villa Niza', 'Carpinelo', 'El Progreso No.2', 'Santa Teresita',\n",
              "       'Suburbano Altavista', 'Suburbano La Loma', 'B. Cerro  El Volador',\n",
              "       'Aldea Pablo VI', 'Bomboná No. 2', 'Barrio Cristóbal',\n",
              "       'La Loma Oriental', 'Villa Liliam', 'Villa Turbay',\n",
              "       'Calasanz Parte Alta', 'El Nogal-Los Almendros', 'U.P.B.',\n",
              "       'Oriente', 'Santa Rosa de Lima', 'Santo Domingo Savio No. 2',\n",
              "       'La Milagrosa', 'Blanquizal', 'Plaza de Ferias',\n",
              "       'Área de Expansión San Antonio de Prado', 'Buga Patio Bonito',\n",
              "       'Pajarito', 'Hospital San Vicente de Paúl', 'Fuente Clara',\n",
              "       'Jardín Botánico', 'La Verde', 'El Pesebre', 'El Compromiso',\n",
              "       'El Rodeo', 'Nuevos Conquistadores', 'Suburbano Travesias',\n",
              "       'Palenque', 'Trece de Noviembre', 'San Antonio',\n",
              "       'Manrique Central No.1', 'Juan Pablo II',\n",
              "       'Área de Expansión Altos de Calasanz', 'Las Mercedes',\n",
              "       'El Socorro', 'Pedregal Bajo', 'Eduardo Santos', 'Pedregal Alto',\n",
              "       'Picachito', 'La Avanzada', 'Inst', 'Aguas Frias',\n",
              "       'Suburbano Palmitas', 'Ocho de Marzo', 'Las Independencias',\n",
              "       'Pablo VI', 'Area De Expansion Altavista', 'Suburbano El Plan',\n",
              "       'Versalles No.1', 'Piedras Blancas', 'El Picacho',\n",
              "       'San José la Cima No. 1', '6001', 'Suburbano el Tesoro',\n",
              "       'La Loma de Los Bernal', 'La Sierra', 'Suburbano El Llano',\n",
              "       'Santo Domingo Savio No.1', 'Volcana Guayabal',\n",
              "       'El Corazon El Morro', '7001', 'San José la Cima No.2', 'Yolombo',\n",
              "       'Aures No.2', 'Barrios de Jesús', 'Bel\\\\xE9n', 'Belalc\\\\xE1zar',\n",
              "       'H\\\\xE9ctor Abad G\\\\xF3mez', 'San Joaqu\\\\xEDn', 'Santa F\\\\xE9',\n",
              "       'Coraz\\\\xF3n de Jes\\\\xFAs', 'Alfonso L\\\\xF3pez',\n",
              "       'Santa Mar\\\\xEDa de Los \\\\xC1ngeles', 'El Rinc\\\\xF3n',\n",
              "       'Alejandr\\\\xEDa', 'Campo Vald\\\\xE9s No. 1', 'Bombon\\\\xE1 No. 1',\n",
              "       'Santa In\\\\xE9s', 'Campo Vald\\\\xE9s No. 2', 'Barrio Col\\\\xF3n',\n",
              "       'Jard\\\\xEDn Bot\\\\xE1nico', 'Estaci\\\\xF3n Villa',\n",
              "       'Barrio de Jes\\\\xFAs', 'Barrio Crist\\\\xF3bal', 'Boyac\\\\xE1',\n",
              "       'Mosc\\\\xFA No. 1', 'Sim\\\\xF3n Bol\\\\xEDvar',\n",
              "       'Nueva Villa de la Iguan\\\\xE1', 'Bombon\\\\xE1 No. 2',\n",
              "       'La Pi\\\\xF1uela', 'Play\\\\xF3n de Los Comuneros',\n",
              "       'Jes\\\\xFAs Nazareno', '\\\\xC1rea de Expansi\\\\xF3n Pajarito',\n",
              "       'F\\\\xE1tima', 'San Germ\\\\xE1n', 'Diego Echavarr\\\\xEDa',\n",
              "       'Mosc\\\\xFA No. 2', 'La Am\\\\xE9rica', 'Alejandro Echavarr\\\\xEDa',\n",
              "       'L\\\\xF3pez de Mesa', 'Los \\\\xC1ngeles',\n",
              "       '\\\\xC1rea de Expansi\\\\xF3n Altos de Calasanz',\n",
              "       'Santa Mar\\\\xEDa de los \\\\xC1ngeles', 'Santa M\\\\xF3nica',\n",
              "       'La Mansi\\\\xF3n', 'San Mart\\\\xEDn de Porres', 'C\\\\xF3rdoba',\n",
              "       'Santa Luc\\\\xEDa', 'Batall\\\\xF3n Girardot', 'El Vel\\\\xF3dromo',\n",
              "       'Palmitas Sector Central', 'Andaluc\\\\xEDa', 'Bombon\\\\xE1 No.1',\n",
              "       'Mar\\\\xEDa Cano Carambolas', '0', 'Nueva Villa de Aburr\\\\xE1',\n",
              "       '\\\\xC1rea de Expansi\\\\xF3n San Antonio de Prado',\n",
              "       'Los Alc\\\\xE1zares', 'El Coraz\\\\xF3n',\n",
              "       'Area De Expansion Belen Rincon', 'Catalu\\\\xF1a', 'Berl\\\\xEDn',\n",
              "       'El Vergel', 'Antonio Nari\\\\xF1o',\n",
              "       'Hospital San Vicente de Pa\\\\xFAl', 'Suburbano Palma Patio',\n",
              "       'San Jos\\\\xE9 de la Monta\\\\xF1a', 'SUBURB El Plan',\n",
              "       'Campo Vald\\\\xE9s No.2', 'San Jos\\\\xE9 la Cima No.2',\n",
              "       'Asomadera No.1', 'Piedras Blancas Represa', 'La Loma',\n",
              "       'Batallón Girardot', 'Potrerito', 'Moscú No.2',\n",
              "       'Suburbano La Cuchilla', '1018', '1507', '1504', 'La mota', '1408',\n",
              "       '1011', '1419', '1503', '0907', 'Sin Inf', '1422', '1020', '0408',\n",
              "       '1510', 'Santa Elena Sector Central', '1114', '0205', '1423',\n",
              "       '0402', '0103', '0717', '0505', '1019', '1001', '0509', '0301',\n",
              "       '1101', '0303', '0409', '0811', '0712', '1603', '1003', '0307',\n",
              "       '1204', '0208', '0809', '0306', '0906', '1007', '0413',\n",
              "       'Suburbano Aguas Frias', '1103', '1108', '1511', '0109', '1206',\n",
              "       '0914', '0711', 'San Jose Del Manzanillo', '1613', '0813', '0514',\n",
              "       '1611', '1306', '0819', '7002', 'Suburbano La Palma-El Patio',\n",
              "       '1012', 'Versalles No.2', 'Berlín', 'Media Luna',\n",
              "       'Área de Expansión Altavista',\n",
              "       'Area de Expansion Altos de Calasanz', '0312', '1102', '1202',\n",
              "       '0302', '1105', '1205', 'El Astillero', '0310', '0309', '1211',\n",
              "       '0803', '0105', '0606', '0716', '1605', '0211', '5002',\n",
              "       'Suburbano Piedra Gorda', '0912', 'AUC1', '9004',\n",
              "       'San José de la Montaña', 'El Plan', 'Villa Lilliam', 'El Uvito',\n",
              "       'El Llano SE', 'San Jos\\\\xE9 la Cima No. 1', 'Suburbano Potrerito',\n",
              "       'Yarumalito', 'Mosc\\\\xFA No.2', 'Piedras Blancas - Matasano',\n",
              "       '9086', 'Nueva Villa de La Iguaná', '0903', '1004', '1015', '1620',\n",
              "       '1612', '1008', '0815', '0304', '0202', 'Boqueron', 'Sin Nombre',\n",
              "       'Travesías', 'Moscú No.1'], dtype=object)"
            ]
          },
          "metadata": {},
          "execution_count": 227
        }
      ]
    },
    {
      "cell_type": "markdown",
      "source": [
        "Podemos ver que existen nombres de barrios donde al tildar algúna vocal generaron una secuencia de escape que representa un carácter codificado en UTF-8 en hexadecimal esto hace el nombre del barrio bastante ilegible, vamos a darle manejo a esto reemplazado el código respectivo a la vocal o letra especifica."
      ],
      "metadata": {
        "id": "i0Z3gHXPdBy7"
      }
    },
    {
      "cell_type": "code",
      "source": [
        "df[\"BARRIO\"] = df[\"BARRIO\"].apply(lambda x : str(x).lower())\n",
        "df[\"BARRIO\"] = df[\"BARRIO\"].apply(lambda x : str(x).replace(\"\\\\xc1\",\"a\").replace(\"\\\\xe1\",\"a\").replace(\"á\",\"a\"))\n",
        "df[\"BARRIO\"] = df[\"BARRIO\"].apply(lambda x : str(x).replace(\"\\\\xe9\",\"e\").replace(\"é\",\"e\"))\n",
        "df[\"BARRIO\"] = df[\"BARRIO\"].apply(lambda x : str(x).replace(\"\\\\xed\",\"i\").replace(\"í\",\"i\"))\n",
        "df[\"BARRIO\"] = df[\"BARRIO\"].apply(lambda x : str(x).replace(\"\\\\xf3\",\"o\").replace(\"ó\",\"o\"))\n",
        "df[\"BARRIO\"] = df[\"BARRIO\"].apply(lambda x : str(x).replace(\"\\\\xfa\",\"u\").replace(\"ú\",\"u\"))\n",
        "df[\"BARRIO\"] = df[\"BARRIO\"].apply(lambda x : str(x).replace(\"\\\\xf1\",\"ñ\"))"
      ],
      "metadata": {
        "id": "xVJVe3UidPZW"
      },
      "execution_count": 228,
      "outputs": []
    },
    {
      "cell_type": "code",
      "source": [
        "df[\"BARRIO\"] = df[\"BARRIO\"].str.capitalize()"
      ],
      "metadata": {
        "id": "HbL0gUUTp45h"
      },
      "execution_count": 229,
      "outputs": []
    },
    {
      "cell_type": "code",
      "source": [
        "df[\"BARRIO\"].unique()"
      ],
      "metadata": {
        "colab": {
          "base_uri": "https://localhost:8080/"
        },
        "id": "lsAsFah-ejq2",
        "outputId": "f69e8598-2c92-4139-b588-122e92c1d7fb"
      },
      "execution_count": 230,
      "outputs": [
        {
          "output_type": "execute_result",
          "data": {
            "text/plain": [
              "array(['Barrio colon', 'San diego', 'La francia',\n",
              "       'Santo domingo savio no. 1', 'Santa fe', 'La florida',\n",
              "       'Los conquistadores', 'La alpujarra', 'Villa nueva',\n",
              "       'Facultad de minas u. nacional', 'La esperanza',\n",
              "       'Perpetuo socorro', 'Campo valdes no. 1', 'Miraflores',\n",
              "       'Oleoducto', 'Terminal de transporte', 'Gerona',\n",
              "       'U.d. atanasio girardot', 'Alejandro echavarria',\n",
              "       'Cabecera san antonio de prado', 'Manila', 'Los balsos no.2',\n",
              "       'Moravia', 'Tenche', 'Universidad nacional', 'Los colores',\n",
              "       'Caribe', 'Juan xxiii la quiebra', 'Belalcazar', 'Santa cruz',\n",
              "       'Sucre', 'La candelaria', 'El estadio', 'Suramericana',\n",
              "       'La gloria', 'Centro administrativo', 'Las estancias',\n",
              "       'Aures no. 2', 'Los angeles', 'Castilla', 'La salle', 'La america',\n",
              "       'Picacho', 'Bosques de san pablo', 'La aguacatala',\n",
              "       'Playon de los comuneros', 'Estacion villa', 'La colina',\n",
              "       'Popular', 'Villa del socorro', 'Cucaracho',\n",
              "       'Santa maria de los angeles', 'El chagualo', 'La mansion',\n",
              "       'San benito', 'La castellana', 'Jesus nazareno', 'Loreto',\n",
              "       'Asomadera no. 1', 'El salvador', 'Cristo rey', 'Moscu no. 2',\n",
              "       'La mota', 'Villa hermosa', 'Cordoba', 'Campo amor', 'Naranjal',\n",
              "       'San isidro', 'Boyaca', 'Belen', 'Miranda', 'Las palmas',\n",
              "       'Patio bonito', 'El castillo', 'Guayabal', 'Girardot',\n",
              "       'Campo valdes no. 2', 'Doce de octubre no.1', 'El raizal',\n",
              "       'Rosales', 'San martin de porres', 'Berlin', 'Kennedy',\n",
              "       'El rincon', 'Carlos e. restrepo', 'Moscu no. 1',\n",
              "       'Altavista sector central', 'San javier no.1', 'Bolivariana',\n",
              "       'Prado', 'Boston', 'Veinte de julio', 'Alfonso lopez',\n",
              "       'Hector abad gomez', 'Parque juan pablo ii', 'Lorena', 'Los alpes',\n",
              "       'Parque norte', 'La ladera', 'Trinidad', 'Castropol', 'Laureles',\n",
              "       'La piñuela', 'Aranjuez', 'Robledo', 'Buenos aires', 'San german',\n",
              "       'Bombona no. 1', 'Area de expansion pajarito', 'Santander',\n",
              "       'Simon bolivar', 'Corazon de jesus', 'Francisco antonio zea',\n",
              "       'Cuarta brigada', 'Los mangos', 'Versalles no. 2', 'Calle nueva',\n",
              "       'Fatima', 'Asomadera no. 2', 'Guayaquil', 'Villa carlota',\n",
              "       'La pilarica', 'Los balsos no.1', 'La esperanza no. 2',\n",
              "       'San pedro', 'Manrique oriental', 'Cerro nutibara',\n",
              "       'Nueva villa de la iguana', 'Sevilla', 'Manrique central no. 1',\n",
              "       'Tricentenario', 'El progreso', 'Campo alegre', 'El pomar',\n",
              "       'Florida nueva', 'Barrio caicedo', 'Barrio colombia',\n",
              "       'Cabecera urbana san cristobal', 'Los cerros el vergel', 'Astorga',\n",
              "       'Santa monica', 'La isla', 'San bernardo', 'Altamira',\n",
              "       'San javier no.2', 'La floresta', 'Aures no.1', 'Cataluña',\n",
              "       'Antonio nariño', 'Lopez de mesa', 'Granizal', 'Las lomas no.1',\n",
              "       'Los alcazares', 'El velodromo', 'Nueva villa de aburra',\n",
              "       'Villa flora', 'Las acacias', 'Llanaditas', 'Florencia',\n",
              "       'Las esmeraldas', 'Los pinos', 'El danubio', 'Las granjas',\n",
              "       'El diamante', 'Lalinde', 'El diamante no. 2', 'Ferrini',\n",
              "       'Santa ines', 'Palermo', 'La cruz', 'Olaya herrera', 'Belencito',\n",
              "       'Los naranjos', 'Altavista', 'Manrique central no. 2',\n",
              "       'Universidad de antioquia', 'Pedregal', 'Las brisas', 'El salado',\n",
              "       'Toscana', 'Calasanz', 'El tesoro', 'Brasilia',\n",
              "       'Bermejal-los alamos', 'El poblado', 'Villa guadalupe',\n",
              "       'La frontera', 'Enciso', 'Villatina', 'Aguas frias', 'Monteclaro',\n",
              "       'Maria cano carambolas', 'Cementerio universal',\n",
              "       'Campo valdes no.2', 'Metropolitano', 'Versalles no. 1',\n",
              "       'La libertad', 'La rosa', 'San miguel',\n",
              "       'Suburbano mirador del poblado', 'Granada', 'Alejandria',\n",
              "       'Loma de los bernal', 'Doce de octubre no.2', 'La hondonada',\n",
              "       'Santa margarita', 'San joaquin', 'Tejelo', 'San lucas',\n",
              "       'Miravalle', 'Altos del poblado', 'Manrique central no.2',\n",
              "       'El corazon', 'Bello horizonte', 'La palma', 'Barrio de jesus',\n",
              "       'Diego echavarria', 'El pinal', 'Las playas', 'La oculta',\n",
              "       'La pradera', 'El triunfo', 'Las violetas', 'Mirador del doce',\n",
              "       'San pablo', 'Las lomas no.2', 'Santa lucia',\n",
              "       'Suburbano pedregal alto', 'Asomadera no. 3', 'Bombona no.1',\n",
              "       'Betania', 'Facultad veterinaria y zootecnia u.de.a.', 'Andalucia',\n",
              "       'Villa niza', 'Carpinelo', 'El progreso no.2', 'Santa teresita',\n",
              "       'Suburbano altavista', 'Suburbano la loma', 'B. cerro  el volador',\n",
              "       'Aldea pablo vi', 'Bombona no. 2', 'Barrio cristobal',\n",
              "       'La loma oriental', 'Villa liliam', 'Villa turbay',\n",
              "       'Calasanz parte alta', 'El nogal-los almendros', 'U.p.b.',\n",
              "       'Oriente', 'Santa rosa de lima', 'Santo domingo savio no. 2',\n",
              "       'La milagrosa', 'Blanquizal', 'Plaza de ferias',\n",
              "       'Area de expansion san antonio de prado', 'Buga patio bonito',\n",
              "       'Pajarito', 'Hospital san vicente de paul', 'Fuente clara',\n",
              "       'Jardin botanico', 'La verde', 'El pesebre', 'El compromiso',\n",
              "       'El rodeo', 'Nuevos conquistadores', 'Suburbano travesias',\n",
              "       'Palenque', 'Trece de noviembre', 'San antonio',\n",
              "       'Manrique central no.1', 'Juan pablo ii',\n",
              "       'Area de expansion altos de calasanz', 'Las mercedes',\n",
              "       'El socorro', 'Pedregal bajo', 'Eduardo santos', 'Pedregal alto',\n",
              "       'Picachito', 'La avanzada', 'Inst', 'Suburbano palmitas',\n",
              "       'Ocho de marzo', 'Las independencias', 'Pablo vi',\n",
              "       'Area de expansion altavista', 'Suburbano el plan',\n",
              "       'Versalles no.1', 'Piedras blancas', 'El picacho',\n",
              "       'San jose la cima no. 1', '6001', 'Suburbano el tesoro',\n",
              "       'La loma de los bernal', 'La sierra', 'Suburbano el llano',\n",
              "       'Santo domingo savio no.1', 'Volcana guayabal',\n",
              "       'El corazon el morro', '7001', 'San jose la cima no.2', 'Yolombo',\n",
              "       'Aures no.2', 'Barrios de jesus', 'Batallon girardot',\n",
              "       'Palmitas sector central', '0', 'Area de expansion belen rincon',\n",
              "       'El vergel', 'Suburbano palma patio', 'San jose de la montaña',\n",
              "       'Suburb el plan', 'Asomadera no.1', 'Piedras blancas represa',\n",
              "       'La loma', 'Potrerito', 'Moscu no.2', 'Suburbano la cuchilla',\n",
              "       '1018', '1507', '1504', '1408', '1011', '1419', '1503', '0907',\n",
              "       'Sin inf', '1422', '1020', '0408', '1510',\n",
              "       'Santa elena sector central', '1114', '0205', '1423', '0402',\n",
              "       '0103', '0717', '0505', '1019', '1001', '0509', '0301', '1101',\n",
              "       '0303', '0409', '0811', '0712', '1603', '1003', '0307', '1204',\n",
              "       '0208', '0809', '0306', '0906', '1007', '0413',\n",
              "       'Suburbano aguas frias', '1103', '1108', '1511', '0109', '1206',\n",
              "       '0914', '0711', 'San jose del manzanillo', '1613', '0813', '0514',\n",
              "       '1611', '1306', '0819', '7002', 'Suburbano la palma-el patio',\n",
              "       '1012', 'Versalles no.2', 'Media luna', '0312', '1102', '1202',\n",
              "       '0302', '1105', '1205', 'El astillero', '0310', '0309', '1211',\n",
              "       '0803', '0105', '0606', '0716', '1605', '0211', '5002',\n",
              "       'Suburbano piedra gorda', '0912', 'Auc1', '9004', 'El plan',\n",
              "       'Villa lilliam', 'El uvito', 'El llano se', 'Suburbano potrerito',\n",
              "       'Yarumalito', 'Piedras blancas - matasano', '9086', '0903', '1004',\n",
              "       '1015', '1620', '1612', '1008', '0815', '0304', '0202', 'Boqueron',\n",
              "       'Sin nombre', 'Travesias', 'Moscu no.1'], dtype=object)"
            ]
          },
          "metadata": {},
          "execution_count": 230
        }
      ]
    },
    {
      "cell_type": "markdown",
      "source": [
        "## COMUNA"
      ],
      "metadata": {
        "id": "9BGsGzOfg8K4"
      }
    },
    {
      "cell_type": "code",
      "source": [
        "df[\"COMUNA\"].unique()"
      ],
      "metadata": {
        "colab": {
          "base_uri": "https://localhost:8080/"
        },
        "id": "JlvVy6UUg9xb",
        "outputId": "75f71bcb-a071-4df9-a089-3b171d0eff24"
      },
      "execution_count": 231,
      "outputs": [
        {
          "output_type": "execute_result",
          "data": {
            "text/plain": [
              "array(['La Candelaria', 'Santa Cruz', 'Popular', 'Guayabal', 'El Poblado',\n",
              "       'Laureles Estadio', 'Robledo', 'Doce de Octubre', 'Aranjuez',\n",
              "       'Buenos Aires', 'Castilla',\n",
              "       'Corregimiento de San Antonio de Prado', 'San Javier',\n",
              "       'Villa Hermosa', 'Belén', 'Manrique', 'La América',\n",
              "       'Corregimiento de Altavista', 'Corregimiento de San Cristóbal',\n",
              "       'Corregimiento de Santa Elena', 'In',\n",
              "       'Corregimiento de San Sebastián de Palmitas', 'Bel\\\\xE9n',\n",
              "       'La Am\\\\xE9rica', 'Corregimiento de San Crist\\\\xF3bal',\n",
              "       'Corregimiento de San Sebasti\\\\xE1n de Palmitas', 'AU'],\n",
              "      dtype=object)"
            ]
          },
          "metadata": {},
          "execution_count": 231
        }
      ]
    },
    {
      "cell_type": "markdown",
      "source": [
        "Para la columna \"COMUNA\" tenemos un caso similar al barrio, vamos a darle el mismo tratamiento."
      ],
      "metadata": {
        "id": "TCHDOiWlhCkJ"
      }
    },
    {
      "cell_type": "code",
      "source": [
        "df[\"COMUNA\"] = df[\"COMUNA\"].apply(lambda x : str(x).lower())\n",
        "df[\"COMUNA\"] = df[\"COMUNA\"].apply(lambda x : str(x).replace(\"\\\\xc1\",\"a\").replace(\"\\\\xe1\",\"a\").replace(\"á\",\"a\"))\n",
        "\n",
        "df[\"COMUNA\"] = df[\"COMUNA\"].apply(lambda x : str(x).replace(\"\\\\xe9\",\"e\").replace(\"é\",\"e\"))\n",
        "\n",
        "df[\"COMUNA\"] = df[\"COMUNA\"].apply(lambda x : str(x).replace(\"\\\\xf3\",\"o\").replace(\"ó\",\"o\"))"
      ],
      "metadata": {
        "id": "ov1JiMQ7hU9d"
      },
      "execution_count": 232,
      "outputs": []
    },
    {
      "cell_type": "code",
      "source": [
        "df = df[df[\"COMUNA\"] != \"au\"]\n",
        "df = df[df[\"COMUNA\"] != \"in\"]\n",
        "df = df[df[\"COMUNA\"] != \"nan\"]\n",
        "df = df[df[\"COMUNA\"] != \"sn\"]\n",
        "df = df[df[\"COMUNA\"] != \"no georef\"]\n",
        "df = df[df[\"COMUNA\"] != \"sin inf\"]\n",
        "df = df[df[\"COMUNA\"] != \"0\"]"
      ],
      "metadata": {
        "id": "LmrEP0Loikn8"
      },
      "execution_count": 233,
      "outputs": []
    },
    {
      "cell_type": "code",
      "source": [
        "df[\"COMUNA\"].unique()"
      ],
      "metadata": {
        "colab": {
          "base_uri": "https://localhost:8080/"
        },
        "id": "mbazjWDRhyNF",
        "outputId": "3c423839-712e-48be-a69b-b27c8e836f9d"
      },
      "execution_count": 234,
      "outputs": [
        {
          "output_type": "execute_result",
          "data": {
            "text/plain": [
              "array(['la candelaria', 'santa cruz', 'popular', 'guayabal', 'el poblado',\n",
              "       'laureles estadio', 'robledo', 'doce de octubre', 'aranjuez',\n",
              "       'buenos aires', 'castilla',\n",
              "       'corregimiento de san antonio de prado', 'san javier',\n",
              "       'villa hermosa', 'belen', 'manrique', 'la america',\n",
              "       'corregimiento de altavista', 'corregimiento de san cristobal',\n",
              "       'corregimiento de santa elena',\n",
              "       'corregimiento de san sebastian de palmitas'], dtype=object)"
            ]
          },
          "metadata": {},
          "execution_count": 234
        }
      ]
    },
    {
      "cell_type": "code",
      "source": [
        "df[\"COMUNA\"] = df[\"COMUNA\"].str.capitalize()"
      ],
      "metadata": {
        "id": "_vMrKDzBpGTE"
      },
      "execution_count": 235,
      "outputs": []
    },
    {
      "cell_type": "markdown",
      "source": [
        "## LOCATION, X, Y"
      ],
      "metadata": {
        "id": "-qhN6G3glPnQ"
      }
    },
    {
      "cell_type": "code",
      "source": [
        "df[\"LOCATION\"].head(10)"
      ],
      "metadata": {
        "colab": {
          "base_uri": "https://localhost:8080/"
        },
        "id": "GsD8J-XfkJ7F",
        "outputId": "3bf17382-9e6c-4d98-f5e7-ae2dabe95c09"
      },
      "execution_count": 236,
      "outputs": [
        {
          "output_type": "execute_result",
          "data": {
            "text/plain": [
              "0    [-75.5688011014, 6.24312304123]\n",
              "1    [-75.5693883283, 6.22870030622]\n",
              "2    [-75.5503911403, 6.29869502502]\n",
              "3    [-75.5442195069, 6.30019383306]\n",
              "4     [-75.578180998, 6.21699243701]\n",
              "5      [-75.561118009, 6.2047775959]\n",
              "6    [-75.5810144962, 6.24576066323]\n",
              "7    [-75.5752597216, 6.24685341912]\n",
              "8    [-75.5624178534, 6.25341454089]\n",
              "9    [-75.5931430393, 6.27330476643]\n",
              "Name: LOCATION, dtype: object"
            ]
          },
          "metadata": {},
          "execution_count": 236
        }
      ]
    },
    {
      "cell_type": "code",
      "source": [
        "df[\"X\"].head(10)"
      ],
      "metadata": {
        "colab": {
          "base_uri": "https://localhost:8080/"
        },
        "id": "QDG9qG24lYZF",
        "outputId": "203c99ee-d1b2-4f07-964b-5706960aff68"
      },
      "execution_count": 237,
      "outputs": [
        {
          "output_type": "execute_result",
          "data": {
            "text/plain": [
              "0    834949.69\n",
              "1    834880.17\n",
              "2    837004.94\n",
              "3    837688.53\n",
              "4    833903.11\n",
              "5    835788.30\n",
              "6    833598.49\n",
              "7    834235.89\n",
              "8    835659.53\n",
              "9    832264.64\n",
              "Name: X, dtype: float64"
            ]
          },
          "metadata": {},
          "execution_count": 237
        }
      ]
    },
    {
      "cell_type": "code",
      "source": [
        "df[\"Y\"].head(10)"
      ],
      "metadata": {
        "colab": {
          "base_uri": "https://localhost:8080/"
        },
        "id": "2jsO03TPkJ29",
        "outputId": "d65749ff-9858-4924-a54a-785a10185adb"
      },
      "execution_count": 238,
      "outputs": [
        {
          "output_type": "execute_result",
          "data": {
            "text/plain": [
              "0    1182357.34\n",
              "1    1180762.02\n",
              "2    1188499.17\n",
              "3    1188663.05\n",
              "4    1179469.60\n",
              "5    1178113.02\n",
              "6    1182652.97\n",
              "7    1182772.04\n",
              "8    1183493.83\n",
              "9    1185703.90\n",
              "Name: Y, dtype: float64"
            ]
          },
          "metadata": {},
          "execution_count": 238
        }
      ]
    },
    {
      "cell_type": "markdown",
      "source": [
        "Estas columnas aparentemente se encuentran bien, así que no los vamos a modificar."
      ],
      "metadata": {
        "id": "uFN2-vzglucz"
      }
    },
    {
      "cell_type": "markdown",
      "source": [
        "## Manejo de columnas"
      ],
      "metadata": {
        "id": "onou2-YOlza4"
      }
    },
    {
      "cell_type": "markdown",
      "source": [
        "Ahora vamos a eliminar algunas columnas que tienen datos redundantes con otras, por ejemplo:\n",
        "\n",
        "- Direccion encasillada redunda con la columna Direccion\n",
        "- Fecha accidentes redunda con la columna Fecha accidente\n",
        "- Expediente redunda con la columna Nro radicado"
      ],
      "metadata": {
        "id": "E3KtKKnNlzYY"
      }
    },
    {
      "cell_type": "code",
      "source": [
        "df.drop(labels=[\"DIRECCION ENCASILLADA\",\"EXPEDIENTE\",\"FECHA_ACCIDENTES\",\"NRO_RADICADO\"],axis=1,inplace=True)"
      ],
      "metadata": {
        "id": "XOLhfmPhnjjJ"
      },
      "execution_count": 239,
      "outputs": []
    },
    {
      "cell_type": "code",
      "source": [
        "df"
      ],
      "metadata": {
        "colab": {
          "base_uri": "https://localhost:8080/",
          "height": 687
        },
        "id": "fzlEC2-HnqSv",
        "outputId": "2d53df79-5fc2-44fd-8275-99f3848ea21c"
      },
      "execution_count": 240,
      "outputs": [
        {
          "output_type": "execute_result",
          "data": {
            "text/plain": [
              "         AÑO  CBML CLASE_ACCIDENTE      DIRECCION         DISEÑO  \\\n",
              "0       2015  1013  Caida ocupante    CR 46 CL 43   Tramo de via   \n",
              "1       2015  1020          Choque  CR 43 A CL 29   Tramo de via   \n",
              "2       2015  0205            Otro    CR 46 CL 37   Tramo de via   \n",
              "3       2015  0101       Atropello   CR 34 CL 112   Tramo de via   \n",
              "4       2015  1504          Choque    CR 50 CL 14   Tramo de via   \n",
              "...      ...   ...             ...            ...            ...   \n",
              "270760  2017  0913       Atropello  CR 28 CL 38 F  Lote o predio   \n",
              "270761  2017  1115  Caida ocupante    CL 53 CR 69  Lote o predio   \n",
              "270762  2017  0513          Choque  CR 64 C CL 92   Tramo de via   \n",
              "270763  2017  0607  Caida ocupante  CR 78 A CL 92   Tramo de via   \n",
              "270764  2017  0507          Choque   CR 63 CL 110   Tramo de via   \n",
              "\n",
              "           FECHA_ACCIDENTE GRAVEDAD_ACCIDENTE  MES NUMCOMUNA  \\\n",
              "0      2015-10-21 05:58:00        Con heridos   10        10   \n",
              "1      2015-11-05 03:00:00         Solo daños   11        10   \n",
              "2      2015-10-21 07:40:00        Con heridos   10        02   \n",
              "3      2015-10-21 12:00:00        Con heridos   10        01   \n",
              "4      2015-11-03 06:16:00         Solo daños   11        15   \n",
              "...                    ...                ...  ...       ...   \n",
              "270760 2017-04-21 17:30:00        Con heridos    4        09   \n",
              "270761 2017-03-10 16:30:00        Con heridos    3        11   \n",
              "270762 2017-03-10 17:10:00         Solo daños    3        05   \n",
              "270763 2017-03-10 20:00:00        Con heridos    3        06   \n",
              "270764 2017-03-10 22:40:00         Solo daños    3        05   \n",
              "\n",
              "                           BARRIO            COMUNA  \\\n",
              "0                    Barrio colon     La candelaria   \n",
              "1                       San diego     La candelaria   \n",
              "2                      La francia        Santa cruz   \n",
              "3       Santo domingo savio no. 1           Popular   \n",
              "4                        Santa fe          Guayabal   \n",
              "...                           ...               ...   \n",
              "270760                     Loreto      Buenos aires   \n",
              "270761             Cuarta brigada  Laureles estadio   \n",
              "270762      Francisco antonio zea          Castilla   \n",
              "270763                    Kennedy   Doce de octubre   \n",
              "270764          Hector abad gomez          Castilla   \n",
              "\n",
              "                               LOCATION          X           Y  \n",
              "0       [-75.5688011014, 6.24312304123]  834949.69  1182357.34  \n",
              "1       [-75.5693883283, 6.22870030622]  834880.17  1180762.02  \n",
              "2       [-75.5503911403, 6.29869502502]  837004.94  1188499.17  \n",
              "3       [-75.5442195069, 6.30019383306]  837688.53  1188663.05  \n",
              "4        [-75.578180998, 6.21699243701]  833903.11  1179469.60  \n",
              "...                                 ...        ...         ...  \n",
              "270760  [-75.5559460731, 6.23260034372]  836369.48  1181189.27  \n",
              "270761  [-75.5851522144, 6.26044928627]  833145.10  1184279.21  \n",
              "270762  [-75.5713587099, 6.28457841509]  834679.61  1186944.12  \n",
              "270763  [-75.5831132045, 6.28957484792]  833380.07  1187500.58  \n",
              "270764  [-75.5581989157, 6.30346727931]  836142.21  1189029.54  \n",
              "\n",
              "[249526 rows x 14 columns]"
            ],
            "text/html": [
              "\n",
              "  <div id=\"df-e4848034-8cb9-420d-ad3b-ec80738d8d95\" class=\"colab-df-container\">\n",
              "    <div>\n",
              "<style scoped>\n",
              "    .dataframe tbody tr th:only-of-type {\n",
              "        vertical-align: middle;\n",
              "    }\n",
              "\n",
              "    .dataframe tbody tr th {\n",
              "        vertical-align: top;\n",
              "    }\n",
              "\n",
              "    .dataframe thead th {\n",
              "        text-align: right;\n",
              "    }\n",
              "</style>\n",
              "<table border=\"1\" class=\"dataframe\">\n",
              "  <thead>\n",
              "    <tr style=\"text-align: right;\">\n",
              "      <th></th>\n",
              "      <th>AÑO</th>\n",
              "      <th>CBML</th>\n",
              "      <th>CLASE_ACCIDENTE</th>\n",
              "      <th>DIRECCION</th>\n",
              "      <th>DISEÑO</th>\n",
              "      <th>FECHA_ACCIDENTE</th>\n",
              "      <th>GRAVEDAD_ACCIDENTE</th>\n",
              "      <th>MES</th>\n",
              "      <th>NUMCOMUNA</th>\n",
              "      <th>BARRIO</th>\n",
              "      <th>COMUNA</th>\n",
              "      <th>LOCATION</th>\n",
              "      <th>X</th>\n",
              "      <th>Y</th>\n",
              "    </tr>\n",
              "  </thead>\n",
              "  <tbody>\n",
              "    <tr>\n",
              "      <th>0</th>\n",
              "      <td>2015</td>\n",
              "      <td>1013</td>\n",
              "      <td>Caida ocupante</td>\n",
              "      <td>CR 46 CL 43</td>\n",
              "      <td>Tramo de via</td>\n",
              "      <td>2015-10-21 05:58:00</td>\n",
              "      <td>Con heridos</td>\n",
              "      <td>10</td>\n",
              "      <td>10</td>\n",
              "      <td>Barrio colon</td>\n",
              "      <td>La candelaria</td>\n",
              "      <td>[-75.5688011014, 6.24312304123]</td>\n",
              "      <td>834949.69</td>\n",
              "      <td>1182357.34</td>\n",
              "    </tr>\n",
              "    <tr>\n",
              "      <th>1</th>\n",
              "      <td>2015</td>\n",
              "      <td>1020</td>\n",
              "      <td>Choque</td>\n",
              "      <td>CR 43 A CL 29</td>\n",
              "      <td>Tramo de via</td>\n",
              "      <td>2015-11-05 03:00:00</td>\n",
              "      <td>Solo daños</td>\n",
              "      <td>11</td>\n",
              "      <td>10</td>\n",
              "      <td>San diego</td>\n",
              "      <td>La candelaria</td>\n",
              "      <td>[-75.5693883283, 6.22870030622]</td>\n",
              "      <td>834880.17</td>\n",
              "      <td>1180762.02</td>\n",
              "    </tr>\n",
              "    <tr>\n",
              "      <th>2</th>\n",
              "      <td>2015</td>\n",
              "      <td>0205</td>\n",
              "      <td>Otro</td>\n",
              "      <td>CR 46 CL 37</td>\n",
              "      <td>Tramo de via</td>\n",
              "      <td>2015-10-21 07:40:00</td>\n",
              "      <td>Con heridos</td>\n",
              "      <td>10</td>\n",
              "      <td>02</td>\n",
              "      <td>La francia</td>\n",
              "      <td>Santa cruz</td>\n",
              "      <td>[-75.5503911403, 6.29869502502]</td>\n",
              "      <td>837004.94</td>\n",
              "      <td>1188499.17</td>\n",
              "    </tr>\n",
              "    <tr>\n",
              "      <th>3</th>\n",
              "      <td>2015</td>\n",
              "      <td>0101</td>\n",
              "      <td>Atropello</td>\n",
              "      <td>CR 34 CL 112</td>\n",
              "      <td>Tramo de via</td>\n",
              "      <td>2015-10-21 12:00:00</td>\n",
              "      <td>Con heridos</td>\n",
              "      <td>10</td>\n",
              "      <td>01</td>\n",
              "      <td>Santo domingo savio no. 1</td>\n",
              "      <td>Popular</td>\n",
              "      <td>[-75.5442195069, 6.30019383306]</td>\n",
              "      <td>837688.53</td>\n",
              "      <td>1188663.05</td>\n",
              "    </tr>\n",
              "    <tr>\n",
              "      <th>4</th>\n",
              "      <td>2015</td>\n",
              "      <td>1504</td>\n",
              "      <td>Choque</td>\n",
              "      <td>CR 50 CL 14</td>\n",
              "      <td>Tramo de via</td>\n",
              "      <td>2015-11-03 06:16:00</td>\n",
              "      <td>Solo daños</td>\n",
              "      <td>11</td>\n",
              "      <td>15</td>\n",
              "      <td>Santa fe</td>\n",
              "      <td>Guayabal</td>\n",
              "      <td>[-75.578180998, 6.21699243701]</td>\n",
              "      <td>833903.11</td>\n",
              "      <td>1179469.60</td>\n",
              "    </tr>\n",
              "    <tr>\n",
              "      <th>...</th>\n",
              "      <td>...</td>\n",
              "      <td>...</td>\n",
              "      <td>...</td>\n",
              "      <td>...</td>\n",
              "      <td>...</td>\n",
              "      <td>...</td>\n",
              "      <td>...</td>\n",
              "      <td>...</td>\n",
              "      <td>...</td>\n",
              "      <td>...</td>\n",
              "      <td>...</td>\n",
              "      <td>...</td>\n",
              "      <td>...</td>\n",
              "      <td>...</td>\n",
              "    </tr>\n",
              "    <tr>\n",
              "      <th>270760</th>\n",
              "      <td>2017</td>\n",
              "      <td>0913</td>\n",
              "      <td>Atropello</td>\n",
              "      <td>CR 28 CL 38 F</td>\n",
              "      <td>Lote o predio</td>\n",
              "      <td>2017-04-21 17:30:00</td>\n",
              "      <td>Con heridos</td>\n",
              "      <td>4</td>\n",
              "      <td>09</td>\n",
              "      <td>Loreto</td>\n",
              "      <td>Buenos aires</td>\n",
              "      <td>[-75.5559460731, 6.23260034372]</td>\n",
              "      <td>836369.48</td>\n",
              "      <td>1181189.27</td>\n",
              "    </tr>\n",
              "    <tr>\n",
              "      <th>270761</th>\n",
              "      <td>2017</td>\n",
              "      <td>1115</td>\n",
              "      <td>Caida ocupante</td>\n",
              "      <td>CL 53 CR 69</td>\n",
              "      <td>Lote o predio</td>\n",
              "      <td>2017-03-10 16:30:00</td>\n",
              "      <td>Con heridos</td>\n",
              "      <td>3</td>\n",
              "      <td>11</td>\n",
              "      <td>Cuarta brigada</td>\n",
              "      <td>Laureles estadio</td>\n",
              "      <td>[-75.5851522144, 6.26044928627]</td>\n",
              "      <td>833145.10</td>\n",
              "      <td>1184279.21</td>\n",
              "    </tr>\n",
              "    <tr>\n",
              "      <th>270762</th>\n",
              "      <td>2017</td>\n",
              "      <td>0513</td>\n",
              "      <td>Choque</td>\n",
              "      <td>CR 64 C CL 92</td>\n",
              "      <td>Tramo de via</td>\n",
              "      <td>2017-03-10 17:10:00</td>\n",
              "      <td>Solo daños</td>\n",
              "      <td>3</td>\n",
              "      <td>05</td>\n",
              "      <td>Francisco antonio zea</td>\n",
              "      <td>Castilla</td>\n",
              "      <td>[-75.5713587099, 6.28457841509]</td>\n",
              "      <td>834679.61</td>\n",
              "      <td>1186944.12</td>\n",
              "    </tr>\n",
              "    <tr>\n",
              "      <th>270763</th>\n",
              "      <td>2017</td>\n",
              "      <td>0607</td>\n",
              "      <td>Caida ocupante</td>\n",
              "      <td>CR 78 A CL 92</td>\n",
              "      <td>Tramo de via</td>\n",
              "      <td>2017-03-10 20:00:00</td>\n",
              "      <td>Con heridos</td>\n",
              "      <td>3</td>\n",
              "      <td>06</td>\n",
              "      <td>Kennedy</td>\n",
              "      <td>Doce de octubre</td>\n",
              "      <td>[-75.5831132045, 6.28957484792]</td>\n",
              "      <td>833380.07</td>\n",
              "      <td>1187500.58</td>\n",
              "    </tr>\n",
              "    <tr>\n",
              "      <th>270764</th>\n",
              "      <td>2017</td>\n",
              "      <td>0507</td>\n",
              "      <td>Choque</td>\n",
              "      <td>CR 63 CL 110</td>\n",
              "      <td>Tramo de via</td>\n",
              "      <td>2017-03-10 22:40:00</td>\n",
              "      <td>Solo daños</td>\n",
              "      <td>3</td>\n",
              "      <td>05</td>\n",
              "      <td>Hector abad gomez</td>\n",
              "      <td>Castilla</td>\n",
              "      <td>[-75.5581989157, 6.30346727931]</td>\n",
              "      <td>836142.21</td>\n",
              "      <td>1189029.54</td>\n",
              "    </tr>\n",
              "  </tbody>\n",
              "</table>\n",
              "<p>249526 rows × 14 columns</p>\n",
              "</div>\n",
              "    <div class=\"colab-df-buttons\">\n",
              "\n",
              "  <div class=\"colab-df-container\">\n",
              "    <button class=\"colab-df-convert\" onclick=\"convertToInteractive('df-e4848034-8cb9-420d-ad3b-ec80738d8d95')\"\n",
              "            title=\"Convert this dataframe to an interactive table.\"\n",
              "            style=\"display:none;\">\n",
              "\n",
              "  <svg xmlns=\"http://www.w3.org/2000/svg\" height=\"24px\" viewBox=\"0 -960 960 960\">\n",
              "    <path d=\"M120-120v-720h720v720H120Zm60-500h600v-160H180v160Zm220 220h160v-160H400v160Zm0 220h160v-160H400v160ZM180-400h160v-160H180v160Zm440 0h160v-160H620v160ZM180-180h160v-160H180v160Zm440 0h160v-160H620v160Z\"/>\n",
              "  </svg>\n",
              "    </button>\n",
              "\n",
              "  <style>\n",
              "    .colab-df-container {\n",
              "      display:flex;\n",
              "      gap: 12px;\n",
              "    }\n",
              "\n",
              "    .colab-df-convert {\n",
              "      background-color: #E8F0FE;\n",
              "      border: none;\n",
              "      border-radius: 50%;\n",
              "      cursor: pointer;\n",
              "      display: none;\n",
              "      fill: #1967D2;\n",
              "      height: 32px;\n",
              "      padding: 0 0 0 0;\n",
              "      width: 32px;\n",
              "    }\n",
              "\n",
              "    .colab-df-convert:hover {\n",
              "      background-color: #E2EBFA;\n",
              "      box-shadow: 0px 1px 2px rgba(60, 64, 67, 0.3), 0px 1px 3px 1px rgba(60, 64, 67, 0.15);\n",
              "      fill: #174EA6;\n",
              "    }\n",
              "\n",
              "    .colab-df-buttons div {\n",
              "      margin-bottom: 4px;\n",
              "    }\n",
              "\n",
              "    [theme=dark] .colab-df-convert {\n",
              "      background-color: #3B4455;\n",
              "      fill: #D2E3FC;\n",
              "    }\n",
              "\n",
              "    [theme=dark] .colab-df-convert:hover {\n",
              "      background-color: #434B5C;\n",
              "      box-shadow: 0px 1px 3px 1px rgba(0, 0, 0, 0.15);\n",
              "      filter: drop-shadow(0px 1px 2px rgba(0, 0, 0, 0.3));\n",
              "      fill: #FFFFFF;\n",
              "    }\n",
              "  </style>\n",
              "\n",
              "    <script>\n",
              "      const buttonEl =\n",
              "        document.querySelector('#df-e4848034-8cb9-420d-ad3b-ec80738d8d95 button.colab-df-convert');\n",
              "      buttonEl.style.display =\n",
              "        google.colab.kernel.accessAllowed ? 'block' : 'none';\n",
              "\n",
              "      async function convertToInteractive(key) {\n",
              "        const element = document.querySelector('#df-e4848034-8cb9-420d-ad3b-ec80738d8d95');\n",
              "        const dataTable =\n",
              "          await google.colab.kernel.invokeFunction('convertToInteractive',\n",
              "                                                    [key], {});\n",
              "        if (!dataTable) return;\n",
              "\n",
              "        const docLinkHtml = 'Like what you see? Visit the ' +\n",
              "          '<a target=\"_blank\" href=https://colab.research.google.com/notebooks/data_table.ipynb>data table notebook</a>'\n",
              "          + ' to learn more about interactive tables.';\n",
              "        element.innerHTML = '';\n",
              "        dataTable['output_type'] = 'display_data';\n",
              "        await google.colab.output.renderOutput(dataTable, element);\n",
              "        const docLink = document.createElement('div');\n",
              "        docLink.innerHTML = docLinkHtml;\n",
              "        element.appendChild(docLink);\n",
              "      }\n",
              "    </script>\n",
              "  </div>\n",
              "\n",
              "\n",
              "<div id=\"df-4b48333f-593c-4176-92a3-e5a662670134\">\n",
              "  <button class=\"colab-df-quickchart\" onclick=\"quickchart('df-4b48333f-593c-4176-92a3-e5a662670134')\"\n",
              "            title=\"Suggest charts.\"\n",
              "            style=\"display:none;\">\n",
              "\n",
              "<svg xmlns=\"http://www.w3.org/2000/svg\" height=\"24px\"viewBox=\"0 0 24 24\"\n",
              "     width=\"24px\">\n",
              "    <g>\n",
              "        <path d=\"M19 3H5c-1.1 0-2 .9-2 2v14c0 1.1.9 2 2 2h14c1.1 0 2-.9 2-2V5c0-1.1-.9-2-2-2zM9 17H7v-7h2v7zm4 0h-2V7h2v10zm4 0h-2v-4h2v4z\"/>\n",
              "    </g>\n",
              "</svg>\n",
              "  </button>\n",
              "\n",
              "<style>\n",
              "  .colab-df-quickchart {\n",
              "      --bg-color: #E8F0FE;\n",
              "      --fill-color: #1967D2;\n",
              "      --hover-bg-color: #E2EBFA;\n",
              "      --hover-fill-color: #174EA6;\n",
              "      --disabled-fill-color: #AAA;\n",
              "      --disabled-bg-color: #DDD;\n",
              "  }\n",
              "\n",
              "  [theme=dark] .colab-df-quickchart {\n",
              "      --bg-color: #3B4455;\n",
              "      --fill-color: #D2E3FC;\n",
              "      --hover-bg-color: #434B5C;\n",
              "      --hover-fill-color: #FFFFFF;\n",
              "      --disabled-bg-color: #3B4455;\n",
              "      --disabled-fill-color: #666;\n",
              "  }\n",
              "\n",
              "  .colab-df-quickchart {\n",
              "    background-color: var(--bg-color);\n",
              "    border: none;\n",
              "    border-radius: 50%;\n",
              "    cursor: pointer;\n",
              "    display: none;\n",
              "    fill: var(--fill-color);\n",
              "    height: 32px;\n",
              "    padding: 0;\n",
              "    width: 32px;\n",
              "  }\n",
              "\n",
              "  .colab-df-quickchart:hover {\n",
              "    background-color: var(--hover-bg-color);\n",
              "    box-shadow: 0 1px 2px rgba(60, 64, 67, 0.3), 0 1px 3px 1px rgba(60, 64, 67, 0.15);\n",
              "    fill: var(--button-hover-fill-color);\n",
              "  }\n",
              "\n",
              "  .colab-df-quickchart-complete:disabled,\n",
              "  .colab-df-quickchart-complete:disabled:hover {\n",
              "    background-color: var(--disabled-bg-color);\n",
              "    fill: var(--disabled-fill-color);\n",
              "    box-shadow: none;\n",
              "  }\n",
              "\n",
              "  .colab-df-spinner {\n",
              "    border: 2px solid var(--fill-color);\n",
              "    border-color: transparent;\n",
              "    border-bottom-color: var(--fill-color);\n",
              "    animation:\n",
              "      spin 1s steps(1) infinite;\n",
              "  }\n",
              "\n",
              "  @keyframes spin {\n",
              "    0% {\n",
              "      border-color: transparent;\n",
              "      border-bottom-color: var(--fill-color);\n",
              "      border-left-color: var(--fill-color);\n",
              "    }\n",
              "    20% {\n",
              "      border-color: transparent;\n",
              "      border-left-color: var(--fill-color);\n",
              "      border-top-color: var(--fill-color);\n",
              "    }\n",
              "    30% {\n",
              "      border-color: transparent;\n",
              "      border-left-color: var(--fill-color);\n",
              "      border-top-color: var(--fill-color);\n",
              "      border-right-color: var(--fill-color);\n",
              "    }\n",
              "    40% {\n",
              "      border-color: transparent;\n",
              "      border-right-color: var(--fill-color);\n",
              "      border-top-color: var(--fill-color);\n",
              "    }\n",
              "    60% {\n",
              "      border-color: transparent;\n",
              "      border-right-color: var(--fill-color);\n",
              "    }\n",
              "    80% {\n",
              "      border-color: transparent;\n",
              "      border-right-color: var(--fill-color);\n",
              "      border-bottom-color: var(--fill-color);\n",
              "    }\n",
              "    90% {\n",
              "      border-color: transparent;\n",
              "      border-bottom-color: var(--fill-color);\n",
              "    }\n",
              "  }\n",
              "</style>\n",
              "\n",
              "  <script>\n",
              "    async function quickchart(key) {\n",
              "      const quickchartButtonEl =\n",
              "        document.querySelector('#' + key + ' button');\n",
              "      quickchartButtonEl.disabled = true;  // To prevent multiple clicks.\n",
              "      quickchartButtonEl.classList.add('colab-df-spinner');\n",
              "      try {\n",
              "        const charts = await google.colab.kernel.invokeFunction(\n",
              "            'suggestCharts', [key], {});\n",
              "      } catch (error) {\n",
              "        console.error('Error during call to suggestCharts:', error);\n",
              "      }\n",
              "      quickchartButtonEl.classList.remove('colab-df-spinner');\n",
              "      quickchartButtonEl.classList.add('colab-df-quickchart-complete');\n",
              "    }\n",
              "    (() => {\n",
              "      let quickchartButtonEl =\n",
              "        document.querySelector('#df-4b48333f-593c-4176-92a3-e5a662670134 button');\n",
              "      quickchartButtonEl.style.display =\n",
              "        google.colab.kernel.accessAllowed ? 'block' : 'none';\n",
              "    })();\n",
              "  </script>\n",
              "</div>\n",
              "    </div>\n",
              "  </div>\n"
            ]
          },
          "metadata": {},
          "execution_count": 240
        }
      ]
    },
    {
      "cell_type": "markdown",
      "source": [
        "## Archivo de salida\n",
        "\n",
        "Ahora vamos generar el archivo con los datos tratados."
      ],
      "metadata": {
        "id": "8dbZmSvcoaix"
      }
    },
    {
      "cell_type": "code",
      "source": [
        "df.to_csv(\"dataTratada.csv\", index=False)"
      ],
      "metadata": {
        "id": "OGkPuF22oN8v"
      },
      "execution_count": 242,
      "outputs": []
    }
  ]
}